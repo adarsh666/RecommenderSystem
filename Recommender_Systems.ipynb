{
 "cells": [
  {
   "cell_type": "markdown",
   "id": "463b2e51",
   "metadata": {},
   "source": [
    "# Recommender Systems"
   ]
  },
  {
   "cell_type": "markdown",
   "id": "84a69508",
   "metadata": {},
   "source": [
    "### Objective:"
   ]
  },
  {
   "cell_type": "markdown",
   "id": "f8640be4",
   "metadata": {},
   "source": [
    "**Create a Recommender System to show personalized movie recommendations based on ratings given by a user and other users similar to them in order to improve user experience.**"
   ]
  },
  {
   "cell_type": "markdown",
   "id": "30dcc5f9",
   "metadata": {},
   "source": [
    "**A recommender system, or a recommendation system (sometimes replacing 'system' with a synonym such as platform or engine), is a subclass of information filtering system that provide suggestions for items that are most pertinent to a particular user. Typically, the suggestions refer to various decision-making processes, such as what product to purchase, what music to listen to, or what online news to read.Recommender systems are particularly useful when an individual needs to choose an item from a potentially overwhelming number of items that a service may offer**"
   ]
  },
  {
   "cell_type": "code",
   "execution_count": 1,
   "id": "1f9df7cf",
   "metadata": {},
   "outputs": [],
   "source": [
    "import pandas as pd\n",
    "import seaborn as sns\n",
    "import matplotlib.pyplot as plt"
   ]
  },
  {
   "cell_type": "code",
   "execution_count": 2,
   "id": "d2f4451e",
   "metadata": {},
   "outputs": [],
   "source": [
    "movies = pd.read_fwf('zee-movies.dat', encoding='ISO-8859-1')\n",
    "ratings = pd.read_fwf('zee-ratings.dat', encoding='ISO-8859-1')\n",
    "users = pd.read_fwf('zee-users.dat', encoding='ISO-8859-1')"
   ]
  },
  {
   "cell_type": "code",
   "execution_count": 3,
   "id": "2ea98d9b",
   "metadata": {},
   "outputs": [
    {
     "data": {
      "text/html": [
       "<div>\n",
       "<style scoped>\n",
       "    .dataframe tbody tr th:only-of-type {\n",
       "        vertical-align: middle;\n",
       "    }\n",
       "\n",
       "    .dataframe tbody tr th {\n",
       "        vertical-align: top;\n",
       "    }\n",
       "\n",
       "    .dataframe thead th {\n",
       "        text-align: right;\n",
       "    }\n",
       "</style>\n",
       "<table border=\"1\" class=\"dataframe\">\n",
       "  <thead>\n",
       "    <tr style=\"text-align: right;\">\n",
       "      <th></th>\n",
       "      <th>Movie ID::Title::Genres</th>\n",
       "      <th>Unnamed: 1</th>\n",
       "      <th>Unnamed: 2</th>\n",
       "    </tr>\n",
       "  </thead>\n",
       "  <tbody>\n",
       "    <tr>\n",
       "      <th>0</th>\n",
       "      <td>1::Toy Story (1995)::Animation|Children's|Comedy</td>\n",
       "      <td>NaN</td>\n",
       "      <td>NaN</td>\n",
       "    </tr>\n",
       "    <tr>\n",
       "      <th>1</th>\n",
       "      <td>2::Jumanji (1995)::Adventure|Children's|Fantasy</td>\n",
       "      <td>NaN</td>\n",
       "      <td>NaN</td>\n",
       "    </tr>\n",
       "    <tr>\n",
       "      <th>2</th>\n",
       "      <td>3::Grumpier Old Men (1995)::Comedy|Romance</td>\n",
       "      <td>NaN</td>\n",
       "      <td>NaN</td>\n",
       "    </tr>\n",
       "    <tr>\n",
       "      <th>3</th>\n",
       "      <td>4::Waiting to Exhale (1995)::Comedy|Drama</td>\n",
       "      <td>NaN</td>\n",
       "      <td>NaN</td>\n",
       "    </tr>\n",
       "    <tr>\n",
       "      <th>4</th>\n",
       "      <td>5::Father of the Bride Part II (1995)::Comedy</td>\n",
       "      <td>NaN</td>\n",
       "      <td>NaN</td>\n",
       "    </tr>\n",
       "  </tbody>\n",
       "</table>\n",
       "</div>"
      ],
      "text/plain": [
       "                            Movie ID::Title::Genres Unnamed: 1 Unnamed: 2\n",
       "0  1::Toy Story (1995)::Animation|Children's|Comedy        NaN        NaN\n",
       "1   2::Jumanji (1995)::Adventure|Children's|Fantasy        NaN        NaN\n",
       "2        3::Grumpier Old Men (1995)::Comedy|Romance        NaN        NaN\n",
       "3         4::Waiting to Exhale (1995)::Comedy|Drama        NaN        NaN\n",
       "4     5::Father of the Bride Part II (1995)::Comedy        NaN        NaN"
      ]
     },
     "execution_count": 3,
     "metadata": {},
     "output_type": "execute_result"
    }
   ],
   "source": [
    "movies.head()"
   ]
  },
  {
   "cell_type": "code",
   "execution_count": 4,
   "id": "32569ab1",
   "metadata": {},
   "outputs": [],
   "source": [
    "movies.drop(columns = ['Unnamed: 1', 'Unnamed: 2'],inplace=True)"
   ]
  },
  {
   "cell_type": "markdown",
   "id": "c9695267",
   "metadata": {},
   "source": [
    "## movies column profiling:\n",
    "**1. MovieIDs range between 1 and 3952**\n",
    "\n",
    "**2. Titles are identical to titles provided by the IMDB**\n",
    "\n",
    "**3. Genres are pipe-separated and are selected from the following genres:**\n",
    "**4. Action,Adventure,Animation,Children's,Comedy,Crime,Documentary,Drama,Fantasy,Film-Noir,Horror,Musical,Mystery,Romance,Sci-Fi,Thriller,War,Western**\n",
    "\n"
   ]
  },
  {
   "cell_type": "code",
   "execution_count": 5,
   "id": "a48da041",
   "metadata": {},
   "outputs": [
    {
     "data": {
      "text/html": [
       "<div>\n",
       "<style scoped>\n",
       "    .dataframe tbody tr th:only-of-type {\n",
       "        vertical-align: middle;\n",
       "    }\n",
       "\n",
       "    .dataframe tbody tr th {\n",
       "        vertical-align: top;\n",
       "    }\n",
       "\n",
       "    .dataframe thead th {\n",
       "        text-align: right;\n",
       "    }\n",
       "</style>\n",
       "<table border=\"1\" class=\"dataframe\">\n",
       "  <thead>\n",
       "    <tr style=\"text-align: right;\">\n",
       "      <th></th>\n",
       "      <th>Movie ID::Title::Genres</th>\n",
       "    </tr>\n",
       "  </thead>\n",
       "  <tbody>\n",
       "    <tr>\n",
       "      <th>0</th>\n",
       "      <td>1::Toy Story (1995)::Animation|Children's|Comedy</td>\n",
       "    </tr>\n",
       "    <tr>\n",
       "      <th>1</th>\n",
       "      <td>2::Jumanji (1995)::Adventure|Children's|Fantasy</td>\n",
       "    </tr>\n",
       "  </tbody>\n",
       "</table>\n",
       "</div>"
      ],
      "text/plain": [
       "                            Movie ID::Title::Genres\n",
       "0  1::Toy Story (1995)::Animation|Children's|Comedy\n",
       "1   2::Jumanji (1995)::Adventure|Children's|Fantasy"
      ]
     },
     "execution_count": 5,
     "metadata": {},
     "output_type": "execute_result"
    }
   ],
   "source": [
    "movies.head(2)"
   ]
  },
  {
   "cell_type": "code",
   "execution_count": 6,
   "id": "36b19729",
   "metadata": {},
   "outputs": [],
   "source": [
    "movies = movies['Movie ID::Title::Genres'].str.split('::',expand=True)\n",
    "movies.columns = ['MovieID','Title','Genres']"
   ]
  },
  {
   "cell_type": "code",
   "execution_count": 7,
   "id": "85ea9aef",
   "metadata": {},
   "outputs": [
    {
     "name": "stdout",
     "output_type": "stream",
     "text": [
      "<class 'pandas.core.frame.DataFrame'>\n",
      "RangeIndex: 3883 entries, 0 to 3882\n",
      "Data columns (total 3 columns):\n",
      " #   Column   Non-Null Count  Dtype \n",
      "---  ------   --------------  ----- \n",
      " 0   MovieID  3883 non-null   object\n",
      " 1   Title    3883 non-null   object\n",
      " 2   Genres   3858 non-null   object\n",
      "dtypes: object(3)\n",
      "memory usage: 91.1+ KB\n"
     ]
    }
   ],
   "source": [
    "# There are few null values in movies column\n",
    "movies.info()"
   ]
  },
  {
   "cell_type": "code",
   "execution_count": 8,
   "id": "7fac7fd6",
   "metadata": {},
   "outputs": [],
   "source": [
    "# Replacing null values with 'Unknown'\n",
    "movies.Genres.fillna('Unknown',inplace=True)"
   ]
  },
  {
   "cell_type": "code",
   "execution_count": 9,
   "id": "a064628f",
   "metadata": {},
   "outputs": [],
   "source": [
    "ratings = ratings['UserID::MovieID::Rating::Timestamp'].str.split('::',expand=True)\n",
    "ratings.columns = ['UserID','MovieID','Rating','Timestamp']"
   ]
  },
  {
   "cell_type": "code",
   "execution_count": 10,
   "id": "1274aa93",
   "metadata": {},
   "outputs": [
    {
     "data": {
      "text/html": [
       "<div>\n",
       "<style scoped>\n",
       "    .dataframe tbody tr th:only-of-type {\n",
       "        vertical-align: middle;\n",
       "    }\n",
       "\n",
       "    .dataframe tbody tr th {\n",
       "        vertical-align: top;\n",
       "    }\n",
       "\n",
       "    .dataframe thead th {\n",
       "        text-align: right;\n",
       "    }\n",
       "</style>\n",
       "<table border=\"1\" class=\"dataframe\">\n",
       "  <thead>\n",
       "    <tr style=\"text-align: right;\">\n",
       "      <th></th>\n",
       "      <th>UserID</th>\n",
       "      <th>MovieID</th>\n",
       "      <th>Rating</th>\n",
       "      <th>Timestamp</th>\n",
       "    </tr>\n",
       "  </thead>\n",
       "  <tbody>\n",
       "    <tr>\n",
       "      <th>575232</th>\n",
       "      <td>3519</td>\n",
       "      <td>2815</td>\n",
       "      <td>3</td>\n",
       "      <td>968356112</td>\n",
       "    </tr>\n",
       "  </tbody>\n",
       "</table>\n",
       "</div>"
      ],
      "text/plain": [
       "       UserID MovieID Rating  Timestamp\n",
       "575232   3519    2815      3  968356112"
      ]
     },
     "execution_count": 10,
     "metadata": {},
     "output_type": "execute_result"
    }
   ],
   "source": [
    "ratings.sample(1)"
   ]
  },
  {
   "cell_type": "code",
   "execution_count": 11,
   "id": "71d000c0",
   "metadata": {},
   "outputs": [
    {
     "name": "stdout",
     "output_type": "stream",
     "text": [
      "<class 'pandas.core.frame.DataFrame'>\n",
      "RangeIndex: 1000209 entries, 0 to 1000208\n",
      "Data columns (total 4 columns):\n",
      " #   Column     Non-Null Count    Dtype \n",
      "---  ------     --------------    ----- \n",
      " 0   UserID     1000209 non-null  object\n",
      " 1   MovieID    1000209 non-null  object\n",
      " 2   Rating     1000209 non-null  object\n",
      " 3   Timestamp  1000209 non-null  object\n",
      "dtypes: object(4)\n",
      "memory usage: 30.5+ MB\n"
     ]
    }
   ],
   "source": [
    "# No missing values in ratings dataframe\n",
    "ratings.info()"
   ]
  },
  {
   "cell_type": "markdown",
   "id": "a1fc3f6b",
   "metadata": {},
   "source": [
    "# ratings column profiling:\n",
    "### UserIDs range between 1 and 6040\n",
    "### MovieIDs range between 1 and 3952\n",
    "### Ratings are made on a 5-star scale (whole-star ratings only)\n",
    "### Timestamp is represented in seconds\n",
    "### Each user has at least 20 ratings\n"
   ]
  },
  {
   "cell_type": "code",
   "execution_count": 12,
   "id": "c52ef885",
   "metadata": {},
   "outputs": [],
   "source": [
    "ratings_copy = ratings.copy()\n",
    "ratings_copy = ratings_copy.astype({\"MovieID\": int, \"UserID\": int,\n",
    "                    \"Rating\": float})"
   ]
  },
  {
   "cell_type": "code",
   "execution_count": 13,
   "id": "1f089e2c",
   "metadata": {},
   "outputs": [
    {
     "name": "stdout",
     "output_type": "stream",
     "text": [
      "Median rating in ratings dataframe is : 4.0\n"
     ]
    },
    {
     "data": {
      "text/plain": [
       "<AxesSubplot: >"
      ]
     },
     "execution_count": 13,
     "metadata": {},
     "output_type": "execute_result"
    },
    {
     "data": {
      "image/png": "[encoded data removed]",
      "text/plain": [
       "<Figure size 640x480 with 1 Axes>"
      ]
     },
     "metadata": {},
     "output_type": "display_data"
    }
   ],
   "source": [
    "print('Median rating in ratings dataframe is :',ratings_copy.Rating.median())\n",
    "ratings_copy.Rating.plot.box()"
   ]
  },
  {
   "cell_type": "code",
   "execution_count": 14,
   "id": "57737662",
   "metadata": {},
   "outputs": [
    {
     "data": {
      "text/html": [
       "<div>\n",
       "<style scoped>\n",
       "    .dataframe tbody tr th:only-of-type {\n",
       "        vertical-align: middle;\n",
       "    }\n",
       "\n",
       "    .dataframe tbody tr th {\n",
       "        vertical-align: top;\n",
       "    }\n",
       "\n",
       "    .dataframe thead th {\n",
       "        text-align: right;\n",
       "    }\n",
       "</style>\n",
       "<table border=\"1\" class=\"dataframe\">\n",
       "  <thead>\n",
       "    <tr style=\"text-align: right;\">\n",
       "      <th></th>\n",
       "      <th>UserID::Gender::Age::Occupation::Zip-code</th>\n",
       "    </tr>\n",
       "  </thead>\n",
       "  <tbody>\n",
       "    <tr>\n",
       "      <th>0</th>\n",
       "      <td>1::F::1::10::48067</td>\n",
       "    </tr>\n",
       "    <tr>\n",
       "      <th>1</th>\n",
       "      <td>2::M::56::16::70072</td>\n",
       "    </tr>\n",
       "  </tbody>\n",
       "</table>\n",
       "</div>"
      ],
      "text/plain": [
       "  UserID::Gender::Age::Occupation::Zip-code\n",
       "0                        1::F::1::10::48067\n",
       "1                       2::M::56::16::70072"
      ]
     },
     "execution_count": 14,
     "metadata": {},
     "output_type": "execute_result"
    }
   ],
   "source": [
    "users.head(2)"
   ]
  },
  {
   "cell_type": "code",
   "execution_count": 15,
   "id": "a72e39be",
   "metadata": {},
   "outputs": [],
   "source": [
    "users = users['UserID::Gender::Age::Occupation::Zip-code'].str.split('::',expand=True)\n",
    "users.columns = ['UserID','Gender','Age','Occupation','Zip-code']"
   ]
  },
  {
   "cell_type": "code",
   "execution_count": 16,
   "id": "1e9520e7",
   "metadata": {},
   "outputs": [
    {
     "data": {
      "text/html": [
       "<div>\n",
       "<style scoped>\n",
       "    .dataframe tbody tr th:only-of-type {\n",
       "        vertical-align: middle;\n",
       "    }\n",
       "\n",
       "    .dataframe tbody tr th {\n",
       "        vertical-align: top;\n",
       "    }\n",
       "\n",
       "    .dataframe thead th {\n",
       "        text-align: right;\n",
       "    }\n",
       "</style>\n",
       "<table border=\"1\" class=\"dataframe\">\n",
       "  <thead>\n",
       "    <tr style=\"text-align: right;\">\n",
       "      <th></th>\n",
       "      <th>UserID</th>\n",
       "      <th>Gender</th>\n",
       "      <th>Age</th>\n",
       "      <th>Occupation</th>\n",
       "      <th>Zip-code</th>\n",
       "    </tr>\n",
       "  </thead>\n",
       "  <tbody>\n",
       "    <tr>\n",
       "      <th>5567</th>\n",
       "      <td>5568</td>\n",
       "      <td>M</td>\n",
       "      <td>18</td>\n",
       "      <td>4</td>\n",
       "      <td>49841</td>\n",
       "    </tr>\n",
       "    <tr>\n",
       "      <th>4493</th>\n",
       "      <td>4494</td>\n",
       "      <td>M</td>\n",
       "      <td>45</td>\n",
       "      <td>0</td>\n",
       "      <td>33460</td>\n",
       "    </tr>\n",
       "  </tbody>\n",
       "</table>\n",
       "</div>"
      ],
      "text/plain": [
       "     UserID Gender Age Occupation Zip-code\n",
       "5567   5568      M  18          4    49841\n",
       "4493   4494      M  45          0    33460"
      ]
     },
     "execution_count": 16,
     "metadata": {},
     "output_type": "execute_result"
    }
   ],
   "source": [
    "users.sample(2)"
   ]
  },
  {
   "cell_type": "code",
   "execution_count": 17,
   "id": "bdb6c141",
   "metadata": {},
   "outputs": [
    {
     "name": "stdout",
     "output_type": "stream",
     "text": [
      "<class 'pandas.core.frame.DataFrame'>\n",
      "RangeIndex: 6040 entries, 0 to 6039\n",
      "Data columns (total 5 columns):\n",
      " #   Column      Non-Null Count  Dtype \n",
      "---  ------      --------------  ----- \n",
      " 0   UserID      6040 non-null   object\n",
      " 1   Gender      6040 non-null   object\n",
      " 2   Age         6040 non-null   object\n",
      " 3   Occupation  6040 non-null   object\n",
      " 4   Zip-code    6040 non-null   object\n",
      "dtypes: object(5)\n",
      "memory usage: 236.1+ KB\n"
     ]
    }
   ],
   "source": [
    "# No null values in users column\n",
    "users.info()"
   ]
  },
  {
   "cell_type": "markdown",
   "id": "351cb2b1",
   "metadata": {},
   "source": [
    "## User column profiling:\n",
    "\n",
    "####    UserIDs range between 1 and 6040\n",
    "\n",
    "####    MovieIDs range between 1 and 3952\n",
    "\n",
    "####    Ratings are made on a 5-star scale (whole-star ratings only)\n",
    "\n",
    "####    Timestamp is represented in seconds\n",
    "\n",
    "####    Each user has at least 20 ratings\n"
   ]
  },
  {
   "cell_type": "code",
   "execution_count": 18,
   "id": "21f76c60",
   "metadata": {},
   "outputs": [
    {
     "data": {
      "text/html": [
       "<div>\n",
       "<style scoped>\n",
       "    .dataframe tbody tr th:only-of-type {\n",
       "        vertical-align: middle;\n",
       "    }\n",
       "\n",
       "    .dataframe tbody tr th {\n",
       "        vertical-align: top;\n",
       "    }\n",
       "\n",
       "    .dataframe thead th {\n",
       "        text-align: right;\n",
       "    }\n",
       "</style>\n",
       "<table border=\"1\" class=\"dataframe\">\n",
       "  <thead>\n",
       "    <tr style=\"text-align: right;\">\n",
       "      <th></th>\n",
       "      <th>UserID</th>\n",
       "      <th>MovieID</th>\n",
       "      <th>Rating</th>\n",
       "      <th>Timestamp</th>\n",
       "      <th>Gender</th>\n",
       "      <th>Age</th>\n",
       "      <th>Occupation</th>\n",
       "      <th>Zip-code</th>\n",
       "    </tr>\n",
       "  </thead>\n",
       "  <tbody>\n",
       "    <tr>\n",
       "      <th>0</th>\n",
       "      <td>1</td>\n",
       "      <td>1193</td>\n",
       "      <td>5</td>\n",
       "      <td>978300760</td>\n",
       "      <td>F</td>\n",
       "      <td>1</td>\n",
       "      <td>10</td>\n",
       "      <td>48067</td>\n",
       "    </tr>\n",
       "    <tr>\n",
       "      <th>1</th>\n",
       "      <td>1</td>\n",
       "      <td>661</td>\n",
       "      <td>3</td>\n",
       "      <td>978302109</td>\n",
       "      <td>F</td>\n",
       "      <td>1</td>\n",
       "      <td>10</td>\n",
       "      <td>48067</td>\n",
       "    </tr>\n",
       "  </tbody>\n",
       "</table>\n",
       "</div>"
      ],
      "text/plain": [
       "  UserID MovieID Rating  Timestamp Gender Age Occupation Zip-code\n",
       "0      1    1193      5  978300760      F   1         10    48067\n",
       "1      1     661      3  978302109      F   1         10    48067"
      ]
     },
     "execution_count": 18,
     "metadata": {},
     "output_type": "execute_result"
    }
   ],
   "source": [
    "user_rating_df = pd.merge(ratings, users, how='inner', on='UserID')\n",
    "user_rating_df.head(2)"
   ]
  },
  {
   "cell_type": "code",
   "execution_count": 19,
   "id": "3ab5ed32",
   "metadata": {},
   "outputs": [],
   "source": [
    "age_rating_counts = user_rating_df['Age'].value_counts()"
   ]
  },
  {
   "cell_type": "markdown",
   "id": "96180c2b",
   "metadata": {},
   "source": [
    "### Users in the age group 25-34 watched and rated the most number of movies:"
   ]
  },
  {
   "cell_type": "code",
   "execution_count": 20,
   "id": "29730146",
   "metadata": {},
   "outputs": [
    {
     "data": {
      "text/plain": [
       "<AxesSubplot: xlabel='Age'>"
      ]
     },
     "execution_count": 20,
     "metadata": {},
     "output_type": "execute_result"
    },
    {
     "data": {
      "image/png": "[encoded data removed]",
      "text/plain": [
       "<Figure size 640x480 with 1 Axes>"
      ]
     },
     "metadata": {},
     "output_type": "display_data"
    }
   ],
   "source": [
    "sns.barplot(x=age_rating_counts, y=age_rating_counts.index, palette=\"tab20_r\")"
   ]
  },
  {
   "cell_type": "code",
   "execution_count": null,
   "id": "0b88d0e4",
   "metadata": {},
   "outputs": [],
   "source": []
  },
  {
   "cell_type": "code",
   "execution_count": 21,
   "id": "2158c329",
   "metadata": {},
   "outputs": [],
   "source": [
    "occupation_rating_counts = user_rating_df['Occupation'].value_counts()"
   ]
  },
  {
   "cell_type": "markdown",
   "id": "7efe2f32",
   "metadata": {},
   "source": [
    "### \"college/grad student\" has  watched and rated the most number of movies:"
   ]
  },
  {
   "cell_type": "code",
   "execution_count": 22,
   "id": "f527a052",
   "metadata": {},
   "outputs": [
    {
     "data": {
      "text/plain": [
       "<AxesSubplot: xlabel='Occupation'>"
      ]
     },
     "execution_count": 22,
     "metadata": {},
     "output_type": "execute_result"
    },
    {
     "data": {
      "image/png": "[encoded data removed]",
      "text/plain": [
       "<Figure size 640x480 with 1 Axes>"
      ]
     },
     "metadata": {},
     "output_type": "display_data"
    }
   ],
   "source": [
    "sns.barplot(x=occupation_rating_counts, y=occupation_rating_counts.index, palette=\"tab20_r\")"
   ]
  },
  {
   "cell_type": "markdown",
   "id": "32da2da8",
   "metadata": {},
   "source": [
    "### Most of the users in our dataset who’ve rated the movies are Male"
   ]
  },
  {
   "cell_type": "code",
   "execution_count": 23,
   "id": "42c878e9",
   "metadata": {},
   "outputs": [
    {
     "data": {
      "text/plain": [
       "<AxesSubplot: >"
      ]
     },
     "execution_count": 23,
     "metadata": {},
     "output_type": "execute_result"
    },
    {
     "data": {
      "image/png": "[encoded data removed]",
      "text/plain": [
       "<Figure size 640x480 with 1 Axes>"
      ]
     },
     "metadata": {},
     "output_type": "display_data"
    }
   ],
   "source": [
    "user_rating_df.Gender.value_counts().plot(kind='bar')"
   ]
  },
  {
   "cell_type": "code",
   "execution_count": 24,
   "id": "741c66d3",
   "metadata": {},
   "outputs": [],
   "source": [
    "def clean_year(x):\n",
    "    try:\n",
    "        return x.replace(')','')\n",
    "    except AttributeError:\n",
    "        return None\n",
    "    \n",
    "def str_to_int(x):\n",
    "    try:\n",
    "        return int(x)\n",
    "    except ValueError:\n",
    "        return None"
   ]
  },
  {
   "cell_type": "code",
   "execution_count": 25,
   "id": "24bca64b",
   "metadata": {},
   "outputs": [
    {
     "data": {
      "text/html": [
       "<div>\n",
       "<style scoped>\n",
       "    .dataframe tbody tr th:only-of-type {\n",
       "        vertical-align: middle;\n",
       "    }\n",
       "\n",
       "    .dataframe tbody tr th {\n",
       "        vertical-align: top;\n",
       "    }\n",
       "\n",
       "    .dataframe thead th {\n",
       "        text-align: right;\n",
       "    }\n",
       "</style>\n",
       "<table border=\"1\" class=\"dataframe\">\n",
       "  <thead>\n",
       "    <tr style=\"text-align: right;\">\n",
       "      <th></th>\n",
       "      <th>MovieID</th>\n",
       "      <th>Title</th>\n",
       "      <th>Genres</th>\n",
       "      <th>movie</th>\n",
       "      <th>year</th>\n",
       "      <th>year_binned</th>\n",
       "    </tr>\n",
       "  </thead>\n",
       "  <tbody>\n",
       "    <tr>\n",
       "      <th>0</th>\n",
       "      <td>1</td>\n",
       "      <td>Toy Story (1995)</td>\n",
       "      <td>Animation|Children's|Comedy</td>\n",
       "      <td>Toy Story</td>\n",
       "      <td>1995.0</td>\n",
       "      <td>(1990, 2000]</td>\n",
       "    </tr>\n",
       "    <tr>\n",
       "      <th>1</th>\n",
       "      <td>2</td>\n",
       "      <td>Jumanji (1995)</td>\n",
       "      <td>Adventure|Children's|Fantasy</td>\n",
       "      <td>Jumanji</td>\n",
       "      <td>1995.0</td>\n",
       "      <td>(1990, 2000]</td>\n",
       "    </tr>\n",
       "  </tbody>\n",
       "</table>\n",
       "</div>"
      ],
      "text/plain": [
       "  MovieID             Title                        Genres       movie    year  \\\n",
       "0       1  Toy Story (1995)   Animation|Children's|Comedy  Toy Story   1995.0   \n",
       "1       2    Jumanji (1995)  Adventure|Children's|Fantasy    Jumanji   1995.0   \n",
       "\n",
       "    year_binned  \n",
       "0  (1990, 2000]  \n",
       "1  (1990, 2000]  "
      ]
     },
     "execution_count": 25,
     "metadata": {},
     "output_type": "execute_result"
    }
   ],
   "source": [
    "movies_copy = movies.copy()\n",
    "movies_copy[['movie','year','drop1','drop2']] = movies_copy['Title'].str.split('(',expand=True)\n",
    "movies_copy['year'] = movies_copy['year'].apply(clean_year).dropna()\n",
    "movies_copy['year'] = movies_copy['year'].apply(str_to_int).dropna()\n",
    "movies_copy = movies_copy.drop(['drop1','drop2'],axis=1)\n",
    "movies_copy = movies_copy[~movies_copy.year.isna()]\n",
    "#movies_copy = movies_copy.astype({\"year\": int})\n",
    "bins = [1930, 1940, 1950, 1960, 1970, 1980, 1990,2000]\n",
    "movies_copy['year_binned'] = pd.cut(movies_copy['year'], bins)\n",
    "movies_copy.head(2)"
   ]
  },
  {
   "cell_type": "markdown",
   "id": "20916afc",
   "metadata": {},
   "source": [
    "### Most of the movies present in our dataset were released in 90s :"
   ]
  },
  {
   "cell_type": "code",
   "execution_count": 26,
   "id": "f33392e6",
   "metadata": {},
   "outputs": [
    {
     "data": {
      "text/plain": [
       "<AxesSubplot: >"
      ]
     },
     "execution_count": 26,
     "metadata": {},
     "output_type": "execute_result"
    },
    {
     "data": {
      "image/png": "[encoded data removed]",
      "text/plain": [
       "<Figure size 640x480 with 1 Axes>"
      ]
     },
     "metadata": {},
     "output_type": "display_data"
    }
   ],
   "source": [
    "movies_copy.year_binned.value_counts().plot(kind='bar')"
   ]
  },
  {
   "cell_type": "code",
   "execution_count": 27,
   "id": "db122bd1",
   "metadata": {},
   "outputs": [
    {
     "data": {
      "text/html": [
       "<div>\n",
       "<style scoped>\n",
       "    .dataframe tbody tr th:only-of-type {\n",
       "        vertical-align: middle;\n",
       "    }\n",
       "\n",
       "    .dataframe tbody tr th {\n",
       "        vertical-align: top;\n",
       "    }\n",
       "\n",
       "    .dataframe thead th {\n",
       "        text-align: right;\n",
       "    }\n",
       "</style>\n",
       "<table border=\"1\" class=\"dataframe\">\n",
       "  <thead>\n",
       "    <tr style=\"text-align: right;\">\n",
       "      <th></th>\n",
       "      <th>MovieID</th>\n",
       "      <th>Title</th>\n",
       "      <th>Genres</th>\n",
       "      <th>UserID</th>\n",
       "      <th>Rating</th>\n",
       "      <th>Timestamp</th>\n",
       "    </tr>\n",
       "  </thead>\n",
       "  <tbody>\n",
       "    <tr>\n",
       "      <th>0</th>\n",
       "      <td>1</td>\n",
       "      <td>Toy Story (1995)</td>\n",
       "      <td>Animation|Children's|Comedy</td>\n",
       "      <td>1</td>\n",
       "      <td>5</td>\n",
       "      <td>978824268</td>\n",
       "    </tr>\n",
       "    <tr>\n",
       "      <th>1</th>\n",
       "      <td>1</td>\n",
       "      <td>Toy Story (1995)</td>\n",
       "      <td>Animation|Children's|Comedy</td>\n",
       "      <td>6</td>\n",
       "      <td>4</td>\n",
       "      <td>978237008</td>\n",
       "    </tr>\n",
       "  </tbody>\n",
       "</table>\n",
       "</div>"
      ],
      "text/plain": [
       "  MovieID             Title                       Genres UserID Rating  \\\n",
       "0       1  Toy Story (1995)  Animation|Children's|Comedy      1      5   \n",
       "1       1  Toy Story (1995)  Animation|Children's|Comedy      6      4   \n",
       "\n",
       "   Timestamp  \n",
       "0  978824268  \n",
       "1  978237008  "
      ]
     },
     "execution_count": 27,
     "metadata": {},
     "output_type": "execute_result"
    }
   ],
   "source": [
    "df_1 = pd.merge(movies, ratings, how='inner', on='MovieID')\n",
    "df_1.head(2)"
   ]
  },
  {
   "cell_type": "code",
   "execution_count": 28,
   "id": "6d9943ec",
   "metadata": {},
   "outputs": [
    {
     "data": {
      "text/html": [
       "<div>\n",
       "<style scoped>\n",
       "    .dataframe tbody tr th:only-of-type {\n",
       "        vertical-align: middle;\n",
       "    }\n",
       "\n",
       "    .dataframe tbody tr th {\n",
       "        vertical-align: top;\n",
       "    }\n",
       "\n",
       "    .dataframe thead th {\n",
       "        text-align: right;\n",
       "    }\n",
       "</style>\n",
       "<table border=\"1\" class=\"dataframe\">\n",
       "  <thead>\n",
       "    <tr style=\"text-align: right;\">\n",
       "      <th></th>\n",
       "      <th>MovieID</th>\n",
       "      <th>Title</th>\n",
       "      <th>Genres</th>\n",
       "      <th>UserID</th>\n",
       "      <th>Rating</th>\n",
       "      <th>Timestamp</th>\n",
       "      <th>Gender</th>\n",
       "      <th>Age</th>\n",
       "      <th>Occupation</th>\n",
       "      <th>Zip-code</th>\n",
       "    </tr>\n",
       "  </thead>\n",
       "  <tbody>\n",
       "    <tr>\n",
       "      <th>0</th>\n",
       "      <td>1</td>\n",
       "      <td>Toy Story (1995)</td>\n",
       "      <td>Animation|Children's|Comedy</td>\n",
       "      <td>1</td>\n",
       "      <td>5</td>\n",
       "      <td>978824268</td>\n",
       "      <td>F</td>\n",
       "      <td>1</td>\n",
       "      <td>10</td>\n",
       "      <td>48067</td>\n",
       "    </tr>\n",
       "    <tr>\n",
       "      <th>1</th>\n",
       "      <td>48</td>\n",
       "      <td>Pocahontas (1995)</td>\n",
       "      <td>Animation|Children's|Musical|Romance</td>\n",
       "      <td>1</td>\n",
       "      <td>5</td>\n",
       "      <td>978824351</td>\n",
       "      <td>F</td>\n",
       "      <td>1</td>\n",
       "      <td>10</td>\n",
       "      <td>48067</td>\n",
       "    </tr>\n",
       "    <tr>\n",
       "      <th>2</th>\n",
       "      <td>150</td>\n",
       "      <td>Apollo 13 (1995)</td>\n",
       "      <td>Drama</td>\n",
       "      <td>1</td>\n",
       "      <td>5</td>\n",
       "      <td>978301777</td>\n",
       "      <td>F</td>\n",
       "      <td>1</td>\n",
       "      <td>10</td>\n",
       "      <td>48067</td>\n",
       "    </tr>\n",
       "    <tr>\n",
       "      <th>3</th>\n",
       "      <td>260</td>\n",
       "      <td>Star Wars: Episode IV - A New Hope (1977)</td>\n",
       "      <td>Action|Adventure|Fantas</td>\n",
       "      <td>1</td>\n",
       "      <td>4</td>\n",
       "      <td>978300760</td>\n",
       "      <td>F</td>\n",
       "      <td>1</td>\n",
       "      <td>10</td>\n",
       "      <td>48067</td>\n",
       "    </tr>\n",
       "    <tr>\n",
       "      <th>4</th>\n",
       "      <td>527</td>\n",
       "      <td>Schindler's List (1993)</td>\n",
       "      <td>Drama|War</td>\n",
       "      <td>1</td>\n",
       "      <td>5</td>\n",
       "      <td>978824195</td>\n",
       "      <td>F</td>\n",
       "      <td>1</td>\n",
       "      <td>10</td>\n",
       "      <td>48067</td>\n",
       "    </tr>\n",
       "  </tbody>\n",
       "</table>\n",
       "</div>"
      ],
      "text/plain": [
       "  MovieID                                      Title  \\\n",
       "0       1                           Toy Story (1995)   \n",
       "1      48                          Pocahontas (1995)   \n",
       "2     150                           Apollo 13 (1995)   \n",
       "3     260  Star Wars: Episode IV - A New Hope (1977)   \n",
       "4     527                    Schindler's List (1993)   \n",
       "\n",
       "                                 Genres UserID Rating  Timestamp Gender Age  \\\n",
       "0           Animation|Children's|Comedy      1      5  978824268      F   1   \n",
       "1  Animation|Children's|Musical|Romance      1      5  978824351      F   1   \n",
       "2                                 Drama      1      5  978301777      F   1   \n",
       "3               Action|Adventure|Fantas      1      4  978300760      F   1   \n",
       "4                             Drama|War      1      5  978824195      F   1   \n",
       "\n",
       "  Occupation Zip-code  \n",
       "0         10    48067  \n",
       "1         10    48067  \n",
       "2         10    48067  \n",
       "3         10    48067  \n",
       "4         10    48067  "
      ]
     },
     "execution_count": 28,
     "metadata": {},
     "output_type": "execute_result"
    }
   ],
   "source": [
    "df_2 = pd.merge(df_1, users, how='inner', on='UserID')\n",
    "df_2.head()"
   ]
  },
  {
   "cell_type": "code",
   "execution_count": 29,
   "id": "d4b75345",
   "metadata": {},
   "outputs": [
    {
     "name": "stdout",
     "output_type": "stream",
     "text": [
      "<class 'pandas.core.frame.DataFrame'>\n",
      "Int64Index: 1000209 entries, 0 to 1000208\n",
      "Data columns (total 10 columns):\n",
      " #   Column      Non-Null Count    Dtype \n",
      "---  ------      --------------    ----- \n",
      " 0   MovieID     1000209 non-null  object\n",
      " 1   Title       1000209 non-null  object\n",
      " 2   Genres      1000209 non-null  object\n",
      " 3   UserID      1000209 non-null  object\n",
      " 4   Rating      1000209 non-null  object\n",
      " 5   Timestamp   1000209 non-null  object\n",
      " 6   Gender      1000209 non-null  object\n",
      " 7   Age         1000209 non-null  object\n",
      " 8   Occupation  1000209 non-null  object\n",
      " 9   Zip-code    1000209 non-null  object\n",
      "dtypes: object(10)\n",
      "memory usage: 83.9+ MB\n"
     ]
    }
   ],
   "source": [
    "df_2.info()"
   ]
  },
  {
   "cell_type": "code",
   "execution_count": 30,
   "id": "f016c795",
   "metadata": {},
   "outputs": [],
   "source": [
    "# Changing data types of integer valued columns:\n",
    "df_2 = df_2.astype({\"MovieID\": int, \"UserID\": int,\n",
    "                    \"Rating\": int, \"Age\": int,\n",
    "                    \"Occupation\": int})"
   ]
  },
  {
   "cell_type": "markdown",
   "id": "44584d08",
   "metadata": {},
   "source": [
    "## Correlation"
   ]
  },
  {
   "cell_type": "code",
   "execution_count": 31,
   "id": "3088467b",
   "metadata": {},
   "outputs": [
    {
     "name": "stderr",
     "output_type": "stream",
     "text": [
      "C:\\Users\\1267\\AppData\\Local\\Temp\\ipykernel_18052\\4260970755.py:2: FutureWarning: The default value of numeric_only in DataFrame.corr is deprecated. In a future version, it will default to False. Select only valid columns or specify the value of numeric_only to silence this warning.\n",
      "  dataplot = sns.heatmap(df_2.corr(), cmap=\"YlGnBu\", annot=True)\n"
     ]
    },
    {
     "data": {
      "image/png": "[encoded data removed]",
      "text/plain": [
       "<Figure size 2000x1500 with 2 Axes>"
      ]
     },
     "metadata": {},
     "output_type": "display_data"
    }
   ],
   "source": [
    "plt.subplots(figsize=(20,15))\n",
    "dataplot = sns.heatmap(df_2.corr(), cmap=\"YlGnBu\", annot=True)"
   ]
  },
  {
   "cell_type": "markdown",
   "id": "fc4fdae0",
   "metadata": {},
   "source": [
    "**Occupation and Age columns have highest positive correlation followed by Occupation and Rating column**"
   ]
  },
  {
   "cell_type": "code",
   "execution_count": null,
   "id": "d0a46839",
   "metadata": {},
   "outputs": [],
   "source": []
  },
  {
   "cell_type": "markdown",
   "id": "54c201c7",
   "metadata": {},
   "source": [
    "### Average Rating for each movie:"
   ]
  },
  {
   "cell_type": "code",
   "execution_count": 32,
   "id": "beb1f927",
   "metadata": {},
   "outputs": [],
   "source": [
    "agg_df_2 = df_2.groupby('Title').aggregate({'Rating':'mean','MovieID':'count'})\n",
    "agg_df_2.reset_index(inplace=True)"
   ]
  },
  {
   "cell_type": "code",
   "execution_count": 33,
   "id": "f3750a54",
   "metadata": {},
   "outputs": [
    {
     "data": {
      "text/html": [
       "<div>\n",
       "<style scoped>\n",
       "    .dataframe tbody tr th:only-of-type {\n",
       "        vertical-align: middle;\n",
       "    }\n",
       "\n",
       "    .dataframe tbody tr th {\n",
       "        vertical-align: top;\n",
       "    }\n",
       "\n",
       "    .dataframe thead th {\n",
       "        text-align: right;\n",
       "    }\n",
       "</style>\n",
       "<table border=\"1\" class=\"dataframe\">\n",
       "  <thead>\n",
       "    <tr style=\"text-align: right;\">\n",
       "      <th></th>\n",
       "      <th>Title</th>\n",
       "      <th>Avg Rating</th>\n",
       "      <th>Total Ratings</th>\n",
       "    </tr>\n",
       "  </thead>\n",
       "  <tbody>\n",
       "    <tr>\n",
       "      <th>1297</th>\n",
       "      <td>Gate of Heavenly Peace, The (1995)</td>\n",
       "      <td>5.0</td>\n",
       "      <td>3</td>\n",
       "    </tr>\n",
       "    <tr>\n",
       "      <th>3044</th>\n",
       "      <td>Smashing Time (1967)</td>\n",
       "      <td>5.0</td>\n",
       "      <td>2</td>\n",
       "    </tr>\n",
       "    <tr>\n",
       "      <th>249</th>\n",
       "      <td>Baby, The (1973)</td>\n",
       "      <td>5.0</td>\n",
       "      <td>1</td>\n",
       "    </tr>\n",
       "    <tr>\n",
       "      <th>407</th>\n",
       "      <td>Bittersweet Motel (2000)</td>\n",
       "      <td>5.0</td>\n",
       "      <td>1</td>\n",
       "    </tr>\n",
       "    <tr>\n",
       "      <th>1203</th>\n",
       "      <td>Follow the Bitch (1998)</td>\n",
       "      <td>5.0</td>\n",
       "      <td>1</td>\n",
       "    </tr>\n",
       "  </tbody>\n",
       "</table>\n",
       "</div>"
      ],
      "text/plain": [
       "                                   Title  Avg Rating  Total Ratings\n",
       "1297  Gate of Heavenly Peace, The (1995)         5.0              3\n",
       "3044                Smashing Time (1967)         5.0              2\n",
       "249                     Baby, The (1973)         5.0              1\n",
       "407             Bittersweet Motel (2000)         5.0              1\n",
       "1203             Follow the Bitch (1998)         5.0              1"
      ]
     },
     "execution_count": 33,
     "metadata": {},
     "output_type": "execute_result"
    }
   ],
   "source": [
    "agg_df_2.columns=['Title','Avg Rating','Total Ratings']\n",
    "agg_df_2 = agg_df_2.sort_values(by=['Avg Rating','Total Ratings'], ascending=[False,False])\n",
    "agg_df_2.head(5)"
   ]
  },
  {
   "cell_type": "markdown",
   "id": "551d3d51",
   "metadata": {},
   "source": [
    "### Top 5 Most viewed  movies:"
   ]
  },
  {
   "cell_type": "code",
   "execution_count": 34,
   "id": "f4fd4536",
   "metadata": {},
   "outputs": [
    {
     "data": {
      "text/html": [
       "<div>\n",
       "<style scoped>\n",
       "    .dataframe tbody tr th:only-of-type {\n",
       "        vertical-align: middle;\n",
       "    }\n",
       "\n",
       "    .dataframe tbody tr th {\n",
       "        vertical-align: top;\n",
       "    }\n",
       "\n",
       "    .dataframe thead th {\n",
       "        text-align: right;\n",
       "    }\n",
       "</style>\n",
       "<table border=\"1\" class=\"dataframe\">\n",
       "  <thead>\n",
       "    <tr style=\"text-align: right;\">\n",
       "      <th></th>\n",
       "      <th>Title</th>\n",
       "      <th>Avg Rating</th>\n",
       "      <th>Total Ratings</th>\n",
       "    </tr>\n",
       "  </thead>\n",
       "  <tbody>\n",
       "    <tr>\n",
       "      <th>127</th>\n",
       "      <td>American Beauty (1999)</td>\n",
       "      <td>4.317386</td>\n",
       "      <td>3428</td>\n",
       "    </tr>\n",
       "    <tr>\n",
       "      <th>3153</th>\n",
       "      <td>Star Wars: Episode IV - A New Hope (1977)</td>\n",
       "      <td>4.453694</td>\n",
       "      <td>2991</td>\n",
       "    </tr>\n",
       "    <tr>\n",
       "      <th>3154</th>\n",
       "      <td>Star Wars: Episode V - The Empire Strikes Back...</td>\n",
       "      <td>4.292977</td>\n",
       "      <td>2990</td>\n",
       "    </tr>\n",
       "    <tr>\n",
       "      <th>3155</th>\n",
       "      <td>Star Wars: Episode VI - Return of the Jedi (1983)</td>\n",
       "      <td>4.022893</td>\n",
       "      <td>2883</td>\n",
       "    </tr>\n",
       "    <tr>\n",
       "      <th>1789</th>\n",
       "      <td>Jurassic Park (1993)</td>\n",
       "      <td>3.763847</td>\n",
       "      <td>2672</td>\n",
       "    </tr>\n",
       "  </tbody>\n",
       "</table>\n",
       "</div>"
      ],
      "text/plain": [
       "                                                  Title  Avg Rating  \\\n",
       "127                              American Beauty (1999)    4.317386   \n",
       "3153          Star Wars: Episode IV - A New Hope (1977)    4.453694   \n",
       "3154  Star Wars: Episode V - The Empire Strikes Back...    4.292977   \n",
       "3155  Star Wars: Episode VI - Return of the Jedi (1983)    4.022893   \n",
       "1789                               Jurassic Park (1993)    3.763847   \n",
       "\n",
       "      Total Ratings  \n",
       "127            3428  \n",
       "3153           2991  \n",
       "3154           2990  \n",
       "3155           2883  \n",
       "1789           2672  "
      ]
     },
     "execution_count": 34,
     "metadata": {},
     "output_type": "execute_result"
    }
   ],
   "source": [
    "agg_df_2.sort_values(by=['Total Ratings'], ascending=[False])[:5]"
   ]
  },
  {
   "cell_type": "code",
   "execution_count": 35,
   "id": "2232a62c",
   "metadata": {},
   "outputs": [
    {
     "data": {
      "text/html": [
       "<div>\n",
       "<style scoped>\n",
       "    .dataframe tbody tr th:only-of-type {\n",
       "        vertical-align: middle;\n",
       "    }\n",
       "\n",
       "    .dataframe tbody tr th {\n",
       "        vertical-align: top;\n",
       "    }\n",
       "\n",
       "    .dataframe thead th {\n",
       "        text-align: right;\n",
       "    }\n",
       "</style>\n",
       "<table border=\"1\" class=\"dataframe\">\n",
       "  <thead>\n",
       "    <tr style=\"text-align: right;\">\n",
       "      <th></th>\n",
       "      <th>UserID</th>\n",
       "      <th>MovieID</th>\n",
       "      <th>Rating</th>\n",
       "    </tr>\n",
       "  </thead>\n",
       "  <tbody>\n",
       "    <tr>\n",
       "      <th>0</th>\n",
       "      <td>1</td>\n",
       "      <td>1</td>\n",
       "      <td>5</td>\n",
       "    </tr>\n",
       "    <tr>\n",
       "      <th>1</th>\n",
       "      <td>1</td>\n",
       "      <td>48</td>\n",
       "      <td>5</td>\n",
       "    </tr>\n",
       "    <tr>\n",
       "      <th>2</th>\n",
       "      <td>1</td>\n",
       "      <td>150</td>\n",
       "      <td>5</td>\n",
       "    </tr>\n",
       "    <tr>\n",
       "      <th>3</th>\n",
       "      <td>1</td>\n",
       "      <td>260</td>\n",
       "      <td>4</td>\n",
       "    </tr>\n",
       "    <tr>\n",
       "      <th>4</th>\n",
       "      <td>1</td>\n",
       "      <td>527</td>\n",
       "      <td>5</td>\n",
       "    </tr>\n",
       "  </tbody>\n",
       "</table>\n",
       "</div>"
      ],
      "text/plain": [
       "   UserID  MovieID  Rating\n",
       "0       1        1       5\n",
       "1       1       48       5\n",
       "2       1      150       5\n",
       "3       1      260       4\n",
       "4       1      527       5"
      ]
     },
     "execution_count": 35,
     "metadata": {},
     "output_type": "execute_result"
    }
   ],
   "source": [
    "data = df_2[['UserID','MovieID','Rating']] #Considering only the userid, itemid and ratings\n",
    "data.head()"
   ]
  },
  {
   "cell_type": "code",
   "execution_count": 36,
   "id": "543b61a9",
   "metadata": {},
   "outputs": [
    {
     "data": {
      "text/plain": [
       "UserID     0\n",
       "MovieID    0\n",
       "Rating     0\n",
       "dtype: int64"
      ]
     },
     "execution_count": 36,
     "metadata": {},
     "output_type": "execute_result"
    }
   ],
   "source": [
    "data.isna().sum() "
   ]
  },
  {
   "cell_type": "markdown",
   "id": "f68ca1f1",
   "metadata": {},
   "source": [
    "### Percentage of 5-star,4-star,3-star,2-star and 1-star in final dataframe:"
   ]
  },
  {
   "cell_type": "code",
   "execution_count": 37,
   "id": "f54dae26",
   "metadata": {},
   "outputs": [
    {
     "data": {
      "text/plain": [
       "4    34.889808\n",
       "3    26.114242\n",
       "5    22.626271\n",
       "2    10.753453\n",
       "1     5.616226\n",
       "Name: Rating, dtype: float64"
      ]
     },
     "execution_count": 37,
     "metadata": {},
     "output_type": "execute_result"
    }
   ],
   "source": [
    "data['Rating'].value_counts()/len(data) * 100"
   ]
  },
  {
   "cell_type": "markdown",
   "id": "db5a9ed4",
   "metadata": {},
   "source": [
    "# Recommendation using surprise package:"
   ]
  },
  {
   "cell_type": "code",
   "execution_count": 38,
   "id": "a4b0deaf",
   "metadata": {},
   "outputs": [],
   "source": [
    "from surprise import KNNWithMeans \n",
    "from surprise import Dataset\n",
    "from surprise import accuracy\n",
    "from surprise.model_selection import train_test_split\n",
    "from surprise import Reader"
   ]
  },
  {
   "cell_type": "code",
   "execution_count": 39,
   "id": "8a2aa8a4",
   "metadata": {},
   "outputs": [],
   "source": [
    "df = data.copy()"
   ]
  },
  {
   "cell_type": "code",
   "execution_count": 40,
   "id": "3149fa54",
   "metadata": {},
   "outputs": [
    {
     "data": {
      "text/html": [
       "<div>\n",
       "<style scoped>\n",
       "    .dataframe tbody tr th:only-of-type {\n",
       "        vertical-align: middle;\n",
       "    }\n",
       "\n",
       "    .dataframe tbody tr th {\n",
       "        vertical-align: top;\n",
       "    }\n",
       "\n",
       "    .dataframe thead th {\n",
       "        text-align: right;\n",
       "    }\n",
       "</style>\n",
       "<table border=\"1\" class=\"dataframe\">\n",
       "  <thead>\n",
       "    <tr style=\"text-align: right;\">\n",
       "      <th></th>\n",
       "      <th>UserID</th>\n",
       "      <th>MovieID</th>\n",
       "      <th>Rating</th>\n",
       "    </tr>\n",
       "  </thead>\n",
       "  <tbody>\n",
       "    <tr>\n",
       "      <th>0</th>\n",
       "      <td>1</td>\n",
       "      <td>1</td>\n",
       "      <td>5</td>\n",
       "    </tr>\n",
       "    <tr>\n",
       "      <th>1</th>\n",
       "      <td>1</td>\n",
       "      <td>48</td>\n",
       "      <td>5</td>\n",
       "    </tr>\n",
       "    <tr>\n",
       "      <th>2</th>\n",
       "      <td>1</td>\n",
       "      <td>150</td>\n",
       "      <td>5</td>\n",
       "    </tr>\n",
       "    <tr>\n",
       "      <th>3</th>\n",
       "      <td>1</td>\n",
       "      <td>260</td>\n",
       "      <td>4</td>\n",
       "    </tr>\n",
       "    <tr>\n",
       "      <th>4</th>\n",
       "      <td>1</td>\n",
       "      <td>527</td>\n",
       "      <td>5</td>\n",
       "    </tr>\n",
       "  </tbody>\n",
       "</table>\n",
       "</div>"
      ],
      "text/plain": [
       "   UserID  MovieID  Rating\n",
       "0       1        1       5\n",
       "1       1       48       5\n",
       "2       1      150       5\n",
       "3       1      260       4\n",
       "4       1      527       5"
      ]
     },
     "execution_count": 40,
     "metadata": {},
     "output_type": "execute_result"
    }
   ],
   "source": [
    "df.head()"
   ]
  },
  {
   "cell_type": "code",
   "execution_count": 72,
   "id": "4f592b33",
   "metadata": {},
   "outputs": [
    {
     "data": {
      "text/plain": [
       "Index(['UserID', 'MovieID', 'Rating'], dtype='object')"
      ]
     },
     "execution_count": 72,
     "metadata": {},
     "output_type": "execute_result"
    }
   ],
   "source": [
    "data.columns"
   ]
  },
  {
   "cell_type": "code",
   "execution_count": 73,
   "id": "e7232740",
   "metadata": {},
   "outputs": [],
   "source": [
    "## The Reader class is used to parse a file containing ratings.\n",
    "## It orders the data in format of (userid,title,rating) and even by considering the rating scale\n",
    "reader = Reader(rating_scale=(0.5 , 5))\n",
    "# The columns must correspond to user id, item id and ratings (in that order).\n",
    "data = Dataset.load_from_df(data[['UserID', 'MovieID', 'Rating']], reader) # loading the data as per the format"
   ]
  },
  {
   "cell_type": "code",
   "execution_count": 74,
   "id": "bcf844cd",
   "metadata": {},
   "outputs": [],
   "source": [
    "anti_set = data.build_full_trainset().build_anti_testset()"
   ]
  },
  {
   "cell_type": "code",
   "execution_count": 75,
   "id": "e162b7ca",
   "metadata": {},
   "outputs": [],
   "source": [
    "trainset, testset = train_test_split(data, test_size=.15) # Splitting the data"
   ]
  },
  {
   "cell_type": "markdown",
   "id": "4884409b",
   "metadata": {},
   "source": [
    "## Item - based collaborative filtering"
   ]
  },
  {
   "cell_type": "markdown",
   "id": "54fa33c6",
   "metadata": {},
   "source": [
    "### a) based on Pearson Correlation"
   ]
  },
  {
   "cell_type": "code",
   "execution_count": 93,
   "id": "84a25131",
   "metadata": {},
   "outputs": [
    {
     "name": "stdout",
     "output_type": "stream",
     "text": [
      "Estimating biases using als...\n",
      "Computing the pearson_baseline similarity matrix...\n",
      "Done computing similarity matrix.\n"
     ]
    },
    {
     "data": {
      "text/plain": [
       "<surprise.prediction_algorithms.knns.KNNWithMeans at 0x248f42321d0>"
      ]
     },
     "execution_count": 93,
     "metadata": {},
     "output_type": "execute_result"
    }
   ],
   "source": [
    "algo_i = KNNWithMeans(k=50, sim_options={'name': 'pearson_baseline', 'user_based': False})\n",
    "algo_i.fit(trainset)"
   ]
  },
  {
   "cell_type": "code",
   "execution_count": 94,
   "id": "afcf6bc3",
   "metadata": {},
   "outputs": [],
   "source": [
    "# run the trained model against the testset\n",
    "test_pred = algo_i.test(testset)"
   ]
  },
  {
   "cell_type": "code",
   "execution_count": 95,
   "id": "8ef579e2",
   "metadata": {},
   "outputs": [
    {
     "name": "stdout",
     "output_type": "stream",
     "text": [
      "Item-based Model : Test Set\n",
      "RMSE: 0.8592\n"
     ]
    },
    {
     "data": {
      "text/plain": [
       "0.8592284669619842"
      ]
     },
     "execution_count": 95,
     "metadata": {},
     "output_type": "execute_result"
    }
   ],
   "source": [
    "# get RMSE on test set\n",
    "print(\"Item-based Model : Test Set\")\n",
    "accuracy.rmse(test_pred, verbose=True)"
   ]
  },
  {
   "cell_type": "code",
   "execution_count": 96,
   "id": "cb954b89",
   "metadata": {},
   "outputs": [],
   "source": [
    "def get_top_recommendations(movie_id):\n",
    "    movie_id = int(movie_id)\n",
    "    tsr_inner_id = algo_i.trainset.to_inner_iid(movie_id) \n",
    "    #Getting the 5 nearest neighbors for movieId\n",
    "    tsr_neighbors = algo_i.get_neighbors(tsr_inner_id, k=5)\n",
    "    raw_ids = [str(algo_i.trainset.to_raw_iid(inner_id)) for inner_id in tsr_neighbors]\n",
    "    #Displaying the 5 nearest neighbors to the movie.\n",
    "    return movies[movies.MovieID.isin(raw_ids)]"
   ]
  },
  {
   "cell_type": "code",
   "execution_count": 97,
   "id": "7b7facca",
   "metadata": {},
   "outputs": [
    {
     "data": {
      "text/html": [
       "<div>\n",
       "<style scoped>\n",
       "    .dataframe tbody tr th:only-of-type {\n",
       "        vertical-align: middle;\n",
       "    }\n",
       "\n",
       "    .dataframe tbody tr th {\n",
       "        vertical-align: top;\n",
       "    }\n",
       "\n",
       "    .dataframe thead th {\n",
       "        text-align: right;\n",
       "    }\n",
       "</style>\n",
       "<table border=\"1\" class=\"dataframe\">\n",
       "  <thead>\n",
       "    <tr style=\"text-align: right;\">\n",
       "      <th></th>\n",
       "      <th>MovieID</th>\n",
       "      <th>Title</th>\n",
       "      <th>Genres</th>\n",
       "    </tr>\n",
       "  </thead>\n",
       "  <tbody>\n",
       "    <tr>\n",
       "      <th>1455</th>\n",
       "      <td>1485</td>\n",
       "      <td>Liar Liar (1997)</td>\n",
       "      <td>Comedy</td>\n",
       "    </tr>\n",
       "    <tr>\n",
       "      <th>2813</th>\n",
       "      <td>2882</td>\n",
       "      <td>Jakob the Liar (1999)</td>\n",
       "      <td>Drama</td>\n",
       "    </tr>\n",
       "  </tbody>\n",
       "</table>\n",
       "</div>"
      ],
      "text/plain": [
       "     MovieID                  Title  Genres\n",
       "1455    1485       Liar Liar (1997)  Comedy\n",
       "2813    2882  Jakob the Liar (1999)   Drama"
      ]
     },
     "execution_count": 97,
     "metadata": {},
     "output_type": "execute_result"
    }
   ],
   "source": [
    "dataFrameOut = movies[movies['Title'].str.contains('Liar')]\n",
    "dataFrameOut"
   ]
  },
  {
   "cell_type": "markdown",
   "id": "3095f3be",
   "metadata": {},
   "source": [
    "## Get top recommendations for 'Liar Liar':"
   ]
  },
  {
   "cell_type": "code",
   "execution_count": 98,
   "id": "c2f9eaf7",
   "metadata": {},
   "outputs": [
    {
     "data": {
      "text/html": [
       "<div>\n",
       "<style scoped>\n",
       "    .dataframe tbody tr th:only-of-type {\n",
       "        vertical-align: middle;\n",
       "    }\n",
       "\n",
       "    .dataframe tbody tr th {\n",
       "        vertical-align: top;\n",
       "    }\n",
       "\n",
       "    .dataframe thead th {\n",
       "        text-align: right;\n",
       "    }\n",
       "</style>\n",
       "<table border=\"1\" class=\"dataframe\">\n",
       "  <thead>\n",
       "    <tr style=\"text-align: right;\">\n",
       "      <th></th>\n",
       "      <th>MovieID</th>\n",
       "      <th>Title</th>\n",
       "      <th>Genres</th>\n",
       "    </tr>\n",
       "  </thead>\n",
       "  <tbody>\n",
       "    <tr>\n",
       "      <th>18</th>\n",
       "      <td>19</td>\n",
       "      <td>Ace Ventura: When Nature Calls (1995)</td>\n",
       "      <td>Comedy</td>\n",
       "    </tr>\n",
       "    <tr>\n",
       "      <th>228</th>\n",
       "      <td>231</td>\n",
       "      <td>Dumb &amp; Dumber (1994)</td>\n",
       "      <td>Comedy</td>\n",
       "    </tr>\n",
       "    <tr>\n",
       "      <th>340</th>\n",
       "      <td>344</td>\n",
       "      <td>Ace Ventura: Pet Detective (1994)</td>\n",
       "      <td>Comedy</td>\n",
       "    </tr>\n",
       "    <tr>\n",
       "      <th>363</th>\n",
       "      <td>367</td>\n",
       "      <td>Mask, The (1994)</td>\n",
       "      <td>Comedy|Crime|Fantasy</td>\n",
       "    </tr>\n",
       "    <tr>\n",
       "      <th>1932</th>\n",
       "      <td>2001</td>\n",
       "      <td>Lethal Weapon 2 (1989)</td>\n",
       "      <td>Action|Comedy|Crime|Drama</td>\n",
       "    </tr>\n",
       "  </tbody>\n",
       "</table>\n",
       "</div>"
      ],
      "text/plain": [
       "     MovieID                                  Title                     Genres\n",
       "18        19  Ace Ventura: When Nature Calls (1995)                     Comedy\n",
       "228      231                   Dumb & Dumber (1994)                     Comedy\n",
       "340      344      Ace Ventura: Pet Detective (1994)                     Comedy\n",
       "363      367                       Mask, The (1994)       Comedy|Crime|Fantasy\n",
       "1932    2001                 Lethal Weapon 2 (1989)  Action|Comedy|Crime|Drama"
      ]
     },
     "execution_count": 98,
     "metadata": {},
     "output_type": "execute_result"
    }
   ],
   "source": [
    "get_top_recommendations(1485)"
   ]
  },
  {
   "cell_type": "markdown",
   "id": "96e32267",
   "metadata": {},
   "source": [
    "### b) based on Cosine Similarity"
   ]
  },
  {
   "cell_type": "code",
   "execution_count": 51,
   "id": "adde93ec",
   "metadata": {},
   "outputs": [
    {
     "name": "stdout",
     "output_type": "stream",
     "text": [
      "Computing the cosine similarity matrix...\n",
      "Done computing similarity matrix.\n"
     ]
    },
    {
     "data": {
      "text/plain": [
       "<surprise.prediction_algorithms.knns.KNNWithMeans at 0x23547834f90>"
      ]
     },
     "execution_count": 51,
     "metadata": {},
     "output_type": "execute_result"
    }
   ],
   "source": [
    "algo_j = KNNWithMeans(k=50, sim_options={'name': 'cosine', 'user_based': False})\n",
    "algo_j.fit(trainset)"
   ]
  },
  {
   "cell_type": "code",
   "execution_count": 52,
   "id": "7e819bb2",
   "metadata": {},
   "outputs": [],
   "source": [
    "# run the trained model against the testset\n",
    "test_pred = algo_j.test(testset)"
   ]
  },
  {
   "cell_type": "code",
   "execution_count": 53,
   "id": "f725297d",
   "metadata": {},
   "outputs": [
    {
     "name": "stdout",
     "output_type": "stream",
     "text": [
      "Item-based Model : Test Set\n",
      "RMSE: 0.8895\n"
     ]
    },
    {
     "data": {
      "text/plain": [
       "0.8895066319870393"
      ]
     },
     "execution_count": 53,
     "metadata": {},
     "output_type": "execute_result"
    }
   ],
   "source": [
    "# get RMSE on test set\n",
    "print(\"Item-based Model : Test Set\")\n",
    "accuracy.rmse(test_pred, verbose=True)"
   ]
  },
  {
   "cell_type": "code",
   "execution_count": 54,
   "id": "46b421d6",
   "metadata": {},
   "outputs": [],
   "source": [
    "def get_top_recommendations1(movie_id):\n",
    "    movie_id = int(movie_id)\n",
    "    tsr_inner_id = algo_j.trainset.to_inner_iid(movie_id) \n",
    "    #Getting the 5 nearest neighbors for movieId\n",
    "    tsr_neighbors = algo_j.get_neighbors(tsr_inner_id, k=5)\n",
    "    raw_ids = [str(algo_j.trainset.to_raw_iid(inner_id)) for inner_id in tsr_neighbors]\n",
    "    #Displaying the 5 nearest neighbors to the movie.\n",
    "    return movies[movies.MovieID.isin(raw_ids)]"
   ]
  },
  {
   "cell_type": "code",
   "execution_count": 55,
   "id": "bd2a7a25",
   "metadata": {},
   "outputs": [
    {
     "data": {
      "text/html": [
       "<div>\n",
       "<style scoped>\n",
       "    .dataframe tbody tr th:only-of-type {\n",
       "        vertical-align: middle;\n",
       "    }\n",
       "\n",
       "    .dataframe tbody tr th {\n",
       "        vertical-align: top;\n",
       "    }\n",
       "\n",
       "    .dataframe thead th {\n",
       "        text-align: right;\n",
       "    }\n",
       "</style>\n",
       "<table border=\"1\" class=\"dataframe\">\n",
       "  <thead>\n",
       "    <tr style=\"text-align: right;\">\n",
       "      <th></th>\n",
       "      <th>MovieID</th>\n",
       "      <th>Title</th>\n",
       "      <th>Genres</th>\n",
       "    </tr>\n",
       "  </thead>\n",
       "  <tbody>\n",
       "    <tr>\n",
       "      <th>1613</th>\n",
       "      <td>1659</td>\n",
       "      <td>Hurricane Streets (1998)</td>\n",
       "      <td>Drama</td>\n",
       "    </tr>\n",
       "    <tr>\n",
       "      <th>2424</th>\n",
       "      <td>2493</td>\n",
       "      <td>Harmonists, The (1997)</td>\n",
       "      <td>Drama</td>\n",
       "    </tr>\n",
       "    <tr>\n",
       "      <th>2636</th>\n",
       "      <td>2705</td>\n",
       "      <td>Late August, Early September (Fin août, début ...</td>\n",
       "      <td></td>\n",
       "    </tr>\n",
       "    <tr>\n",
       "      <th>3453</th>\n",
       "      <td>3522</td>\n",
       "      <td>Sacco and Vanzetti (Sacco e Vanzetti) (1971)</td>\n",
       "      <td>Drama</td>\n",
       "    </tr>\n",
       "    <tr>\n",
       "      <th>3498</th>\n",
       "      <td>3567</td>\n",
       "      <td>Bossa Nova (1999)</td>\n",
       "      <td>Comedy</td>\n",
       "    </tr>\n",
       "  </tbody>\n",
       "</table>\n",
       "</div>"
      ],
      "text/plain": [
       "     MovieID                                              Title  Genres\n",
       "1613    1659                           Hurricane Streets (1998)   Drama\n",
       "2424    2493                             Harmonists, The (1997)   Drama\n",
       "2636    2705  Late August, Early September (Fin août, début ...        \n",
       "3453    3522       Sacco and Vanzetti (Sacco e Vanzetti) (1971)   Drama\n",
       "3498    3567                                  Bossa Nova (1999)  Comedy"
      ]
     },
     "execution_count": 55,
     "metadata": {},
     "output_type": "execute_result"
    }
   ],
   "source": [
    "# get top recommendations for 'Liar Liar':\n",
    "get_top_recommendations1(1485)"
   ]
  },
  {
   "cell_type": "code",
   "execution_count": null,
   "id": "e6a66aef",
   "metadata": {},
   "outputs": [],
   "source": []
  },
  {
   "cell_type": "markdown",
   "id": "05a0f265",
   "metadata": {},
   "source": [
    "## Item-Based Collaborative Filtering from scratch:"
   ]
  },
  {
   "cell_type": "code",
   "execution_count": 72,
   "id": "abb5d774",
   "metadata": {},
   "outputs": [],
   "source": [
    "p_table = pd.pivot_table(df_2, index= ['MovieID'], columns = ['UserID'], values=['Rating'])\n",
    "p_table = p_table.fillna(0)"
   ]
  },
  {
   "cell_type": "code",
   "execution_count": 73,
   "id": "2a2aa0d9",
   "metadata": {},
   "outputs": [
    {
     "data": {
      "text/html": [
       "<div>\n",
       "<style scoped>\n",
       "    .dataframe tbody tr th:only-of-type {\n",
       "        vertical-align: middle;\n",
       "    }\n",
       "\n",
       "    .dataframe tbody tr th {\n",
       "        vertical-align: top;\n",
       "    }\n",
       "\n",
       "    .dataframe thead tr th {\n",
       "        text-align: left;\n",
       "    }\n",
       "\n",
       "    .dataframe thead tr:last-of-type th {\n",
       "        text-align: right;\n",
       "    }\n",
       "</style>\n",
       "<table border=\"1\" class=\"dataframe\">\n",
       "  <thead>\n",
       "    <tr>\n",
       "      <th></th>\n",
       "      <th colspan=\"21\" halign=\"left\">Rating</th>\n",
       "    </tr>\n",
       "    <tr>\n",
       "      <th>UserID</th>\n",
       "      <th>1</th>\n",
       "      <th>2</th>\n",
       "      <th>3</th>\n",
       "      <th>4</th>\n",
       "      <th>5</th>\n",
       "      <th>6</th>\n",
       "      <th>7</th>\n",
       "      <th>8</th>\n",
       "      <th>9</th>\n",
       "      <th>10</th>\n",
       "      <th>...</th>\n",
       "      <th>6031</th>\n",
       "      <th>6032</th>\n",
       "      <th>6033</th>\n",
       "      <th>6034</th>\n",
       "      <th>6035</th>\n",
       "      <th>6036</th>\n",
       "      <th>6037</th>\n",
       "      <th>6038</th>\n",
       "      <th>6039</th>\n",
       "      <th>6040</th>\n",
       "    </tr>\n",
       "    <tr>\n",
       "      <th>MovieID</th>\n",
       "      <th></th>\n",
       "      <th></th>\n",
       "      <th></th>\n",
       "      <th></th>\n",
       "      <th></th>\n",
       "      <th></th>\n",
       "      <th></th>\n",
       "      <th></th>\n",
       "      <th></th>\n",
       "      <th></th>\n",
       "      <th></th>\n",
       "      <th></th>\n",
       "      <th></th>\n",
       "      <th></th>\n",
       "      <th></th>\n",
       "      <th></th>\n",
       "      <th></th>\n",
       "      <th></th>\n",
       "      <th></th>\n",
       "      <th></th>\n",
       "      <th></th>\n",
       "    </tr>\n",
       "  </thead>\n",
       "  <tbody>\n",
       "    <tr>\n",
       "      <th>1</th>\n",
       "      <td>5.0</td>\n",
       "      <td>0.0</td>\n",
       "      <td>0.0</td>\n",
       "      <td>0.0</td>\n",
       "      <td>0.0</td>\n",
       "      <td>4.0</td>\n",
       "      <td>0.0</td>\n",
       "      <td>4.0</td>\n",
       "      <td>5.0</td>\n",
       "      <td>5.0</td>\n",
       "      <td>...</td>\n",
       "      <td>0.0</td>\n",
       "      <td>4.0</td>\n",
       "      <td>0.0</td>\n",
       "      <td>0.0</td>\n",
       "      <td>4.0</td>\n",
       "      <td>0.0</td>\n",
       "      <td>0.0</td>\n",
       "      <td>0.0</td>\n",
       "      <td>0.0</td>\n",
       "      <td>3.0</td>\n",
       "    </tr>\n",
       "    <tr>\n",
       "      <th>2</th>\n",
       "      <td>0.0</td>\n",
       "      <td>0.0</td>\n",
       "      <td>0.0</td>\n",
       "      <td>0.0</td>\n",
       "      <td>0.0</td>\n",
       "      <td>0.0</td>\n",
       "      <td>0.0</td>\n",
       "      <td>0.0</td>\n",
       "      <td>0.0</td>\n",
       "      <td>5.0</td>\n",
       "      <td>...</td>\n",
       "      <td>0.0</td>\n",
       "      <td>0.0</td>\n",
       "      <td>0.0</td>\n",
       "      <td>0.0</td>\n",
       "      <td>0.0</td>\n",
       "      <td>0.0</td>\n",
       "      <td>0.0</td>\n",
       "      <td>0.0</td>\n",
       "      <td>0.0</td>\n",
       "      <td>0.0</td>\n",
       "    </tr>\n",
       "    <tr>\n",
       "      <th>3</th>\n",
       "      <td>0.0</td>\n",
       "      <td>0.0</td>\n",
       "      <td>0.0</td>\n",
       "      <td>0.0</td>\n",
       "      <td>0.0</td>\n",
       "      <td>0.0</td>\n",
       "      <td>0.0</td>\n",
       "      <td>0.0</td>\n",
       "      <td>0.0</td>\n",
       "      <td>0.0</td>\n",
       "      <td>...</td>\n",
       "      <td>0.0</td>\n",
       "      <td>0.0</td>\n",
       "      <td>0.0</td>\n",
       "      <td>0.0</td>\n",
       "      <td>1.0</td>\n",
       "      <td>0.0</td>\n",
       "      <td>0.0</td>\n",
       "      <td>0.0</td>\n",
       "      <td>0.0</td>\n",
       "      <td>0.0</td>\n",
       "    </tr>\n",
       "  </tbody>\n",
       "</table>\n",
       "<p>3 rows × 6040 columns</p>\n",
       "</div>"
      ],
      "text/plain": [
       "        Rating                                               ...            \\\n",
       "UserID    1    2    3    4    5    6    7    8    9    10    ... 6031 6032   \n",
       "MovieID                                                      ...             \n",
       "1          5.0  0.0  0.0  0.0  0.0  4.0  0.0  4.0  5.0  5.0  ...  0.0  4.0   \n",
       "2          0.0  0.0  0.0  0.0  0.0  0.0  0.0  0.0  0.0  5.0  ...  0.0  0.0   \n",
       "3          0.0  0.0  0.0  0.0  0.0  0.0  0.0  0.0  0.0  0.0  ...  0.0  0.0   \n",
       "\n",
       "                                                 \n",
       "UserID  6033 6034 6035 6036 6037 6038 6039 6040  \n",
       "MovieID                                          \n",
       "1        0.0  0.0  4.0  0.0  0.0  0.0  0.0  3.0  \n",
       "2        0.0  0.0  0.0  0.0  0.0  0.0  0.0  0.0  \n",
       "3        0.0  0.0  1.0  0.0  0.0  0.0  0.0  0.0  \n",
       "\n",
       "[3 rows x 6040 columns]"
      ]
     },
     "execution_count": 73,
     "metadata": {},
     "output_type": "execute_result"
    }
   ],
   "source": [
    "p_table.head(3)"
   ]
  },
  {
   "cell_type": "code",
   "execution_count": 74,
   "id": "c42000c1",
   "metadata": {},
   "outputs": [],
   "source": [
    "from sklearn.neighbors import NearestNeighbors\n",
    "knn = NearestNeighbors(metric='cosine', algorithm='brute')\n",
    "knn.fit(p_table.values)\n",
    "distances, indices = knn.kneighbors(p_table.values, n_neighbors=3)"
   ]
  },
  {
   "cell_type": "code",
   "execution_count": 81,
   "id": "b02b3067",
   "metadata": {},
   "outputs": [
    {
     "name": "stdout",
     "output_type": "stream",
     "text": [
      "The Nearest Movies to 19: [334, 224]\n",
      "The Distance from 19: [0.4033162461143531, 0.560394575421953]\n"
     ]
    }
   ],
   "source": [
    "# get the index for 'movie 19'\n",
    "index_for_movie = p_table.index.tolist().index(19)# find the indices for the similar movies\n",
    "sim_movies = indices[index_for_movie].tolist()# distances between 'movie_0' and the similar movies\n",
    "movie_distances = distances[index_for_movie].tolist()# the position of 'movie_0' in the list sim_movies\n",
    "id_movie = sim_movies.index(index_for_movie)# remove 'movie_0' from the list sim_movies\n",
    "sim_movies.remove(index_for_movie)# remove 'movie_0' from the list movie_distances\n",
    "movie_distances.pop(id_movie)\n",
    "print('The Nearest Movies to 19:', sim_movies)\n",
    "print('The Distance from 19:', movie_distances)"
   ]
  },
  {
   "cell_type": "code",
   "execution_count": 82,
   "id": "b9845f34",
   "metadata": {},
   "outputs": [
    {
     "data": {
      "text/html": [
       "<div>\n",
       "<style scoped>\n",
       "    .dataframe tbody tr th:only-of-type {\n",
       "        vertical-align: middle;\n",
       "    }\n",
       "\n",
       "    .dataframe tbody tr th {\n",
       "        vertical-align: top;\n",
       "    }\n",
       "\n",
       "    .dataframe thead th {\n",
       "        text-align: right;\n",
       "    }\n",
       "</style>\n",
       "<table border=\"1\" class=\"dataframe\">\n",
       "  <thead>\n",
       "    <tr style=\"text-align: right;\">\n",
       "      <th></th>\n",
       "      <th>MovieID</th>\n",
       "      <th>Title</th>\n",
       "      <th>Genres</th>\n",
       "    </tr>\n",
       "  </thead>\n",
       "  <tbody>\n",
       "    <tr>\n",
       "      <th>221</th>\n",
       "      <td>224</td>\n",
       "      <td>Don Juan DeMarco (1995)</td>\n",
       "      <td>Comedy|Drama|Romance</td>\n",
       "    </tr>\n",
       "    <tr>\n",
       "      <th>330</th>\n",
       "      <td>334</td>\n",
       "      <td>Vanya on 42nd Street (1994)</td>\n",
       "      <td>Drama</td>\n",
       "    </tr>\n",
       "  </tbody>\n",
       "</table>\n",
       "</div>"
      ],
      "text/plain": [
       "    MovieID                        Title                Genres\n",
       "221     224      Don Juan DeMarco (1995)  Comedy|Drama|Romance\n",
       "330     334  Vanya on 42nd Street (1994)                 Drama"
      ]
     },
     "execution_count": 82,
     "metadata": {},
     "output_type": "execute_result"
    }
   ],
   "source": [
    "movies[movies.MovieID.isin([str(i) for i in sim_movies])]"
   ]
  },
  {
   "cell_type": "code",
   "execution_count": null,
   "id": "06e578f5",
   "metadata": {},
   "outputs": [],
   "source": []
  },
  {
   "cell_type": "markdown",
   "id": "7bc56fd0",
   "metadata": {},
   "source": [
    "## User - based collaborative filtering"
   ]
  },
  {
   "cell_type": "code",
   "execution_count": 96,
   "id": "90ce3dfe",
   "metadata": {},
   "outputs": [
    {
     "name": "stdout",
     "output_type": "stream",
     "text": [
      "Estimating biases using als...\n",
      "Computing the pearson_baseline similarity matrix...\n",
      "Done computing similarity matrix.\n"
     ]
    },
    {
     "data": {
      "text/plain": [
       "<surprise.prediction_algorithms.knns.KNNWithMeans at 0x153eaf78750>"
      ]
     },
     "execution_count": 96,
     "metadata": {},
     "output_type": "execute_result"
    }
   ],
   "source": [
    "algo = KNNWithMeans(k = 25, sim_options={'name': 'pearson_baseline', 'user_based': True}) \n",
    "\n",
    "algo.fit(trainset) #fitting the train dataset"
   ]
  },
  {
   "cell_type": "code",
   "execution_count": 97,
   "id": "86eb7672",
   "metadata": {},
   "outputs": [],
   "source": [
    "# run the trained model against the testset\n",
    "test_pred = algo.test(testset)"
   ]
  },
  {
   "cell_type": "code",
   "execution_count": 98,
   "id": "317edb60",
   "metadata": {},
   "outputs": [
    {
     "name": "stdout",
     "output_type": "stream",
     "text": [
      "User-based Model : Test Set\n",
      "RMSE: 0.8883\n"
     ]
    },
    {
     "data": {
      "text/plain": [
       "0.8883319281323834"
      ]
     },
     "execution_count": 98,
     "metadata": {},
     "output_type": "execute_result"
    }
   ],
   "source": [
    "# get RMSE on test set\n",
    "print(\"User-based Model : Test Set\")\n",
    "accuracy.rmse(test_pred, verbose=True)"
   ]
  },
  {
   "cell_type": "code",
   "execution_count": 99,
   "id": "b1c50904",
   "metadata": {},
   "outputs": [],
   "source": [
    "#anti_pre = algo.test(anti_set)"
   ]
  },
  {
   "cell_type": "code",
   "execution_count": 100,
   "id": "e8aa212d",
   "metadata": {},
   "outputs": [
    {
     "name": "stdout",
     "output_type": "stream",
     "text": [
      "<class 'pandas.core.frame.DataFrame'>\n",
      "RangeIndex: 150032 entries, 0 to 150031\n",
      "Data columns (total 5 columns):\n",
      " #   Column   Non-Null Count   Dtype  \n",
      "---  ------   --------------   -----  \n",
      " 0   uid      150032 non-null  int64  \n",
      " 1   iid      150032 non-null  int64  \n",
      " 2   r_ui     150032 non-null  float64\n",
      " 3   est      150032 non-null  float64\n",
      " 4   details  150032 non-null  object \n",
      "dtypes: float64(2), int64(2), object(1)\n",
      "memory usage: 5.7+ MB\n"
     ]
    }
   ],
   "source": [
    "pd.DataFrame(test_pred).info()"
   ]
  },
  {
   "cell_type": "code",
   "execution_count": 101,
   "id": "00c5ef44",
   "metadata": {},
   "outputs": [
    {
     "name": "stdout",
     "output_type": "stream",
     "text": [
      "<class 'pandas.core.frame.DataFrame'>\n",
      "RangeIndex: 3883 entries, 0 to 3882\n",
      "Data columns (total 3 columns):\n",
      " #   Column   Non-Null Count  Dtype \n",
      "---  ------   --------------  ----- \n",
      " 0   MovieID  3883 non-null   object\n",
      " 1   Title    3883 non-null   object\n",
      " 2   Genres   3883 non-null   object\n",
      "dtypes: object(3)\n",
      "memory usage: 91.1+ KB\n"
     ]
    }
   ],
   "source": [
    "movies.info()"
   ]
  },
  {
   "cell_type": "code",
   "execution_count": 102,
   "id": "72f450b7",
   "metadata": {},
   "outputs": [],
   "source": [
    "movies = movies.astype({\"MovieID\": int})"
   ]
  },
  {
   "cell_type": "code",
   "execution_count": 103,
   "id": "36a8cb7c",
   "metadata": {},
   "outputs": [],
   "source": [
    "pred_df = pd.DataFrame(test_pred).merge(movies , left_on = ['iid'], right_on = ['MovieID'])"
   ]
  },
  {
   "cell_type": "code",
   "execution_count": 104,
   "id": "22e0100a",
   "metadata": {},
   "outputs": [],
   "source": [
    "users = users.astype({\"UserID\": int})"
   ]
  },
  {
   "cell_type": "code",
   "execution_count": 105,
   "id": "38bb65bd",
   "metadata": {},
   "outputs": [],
   "source": [
    "pred_df = pd.DataFrame(test_pred).merge(users , left_on = ['uid'], right_on = ['UserID'])"
   ]
  },
  {
   "cell_type": "code",
   "execution_count": 106,
   "id": "ee873c09",
   "metadata": {},
   "outputs": [
    {
     "data": {
      "text/html": [
       "<div>\n",
       "<style scoped>\n",
       "    .dataframe tbody tr th:only-of-type {\n",
       "        vertical-align: middle;\n",
       "    }\n",
       "\n",
       "    .dataframe tbody tr th {\n",
       "        vertical-align: top;\n",
       "    }\n",
       "\n",
       "    .dataframe thead th {\n",
       "        text-align: right;\n",
       "    }\n",
       "</style>\n",
       "<table border=\"1\" class=\"dataframe\">\n",
       "  <thead>\n",
       "    <tr style=\"text-align: right;\">\n",
       "      <th></th>\n",
       "      <th>uid</th>\n",
       "      <th>iid</th>\n",
       "      <th>r_ui</th>\n",
       "      <th>est</th>\n",
       "      <th>details</th>\n",
       "      <th>UserID</th>\n",
       "      <th>Gender</th>\n",
       "      <th>Age</th>\n",
       "      <th>Occupation</th>\n",
       "      <th>Zip-code</th>\n",
       "    </tr>\n",
       "  </thead>\n",
       "  <tbody>\n",
       "    <tr>\n",
       "      <th>0</th>\n",
       "      <td>3513</td>\n",
       "      <td>3105</td>\n",
       "      <td>4.0</td>\n",
       "      <td>3.611484</td>\n",
       "      <td>{'actual_k': 25, 'was_impossible': False}</td>\n",
       "      <td>3513</td>\n",
       "      <td>M</td>\n",
       "      <td>25</td>\n",
       "      <td>16</td>\n",
       "      <td>01890</td>\n",
       "    </tr>\n",
       "    <tr>\n",
       "      <th>1</th>\n",
       "      <td>3513</td>\n",
       "      <td>2302</td>\n",
       "      <td>4.0</td>\n",
       "      <td>3.855545</td>\n",
       "      <td>{'actual_k': 25, 'was_impossible': False}</td>\n",
       "      <td>3513</td>\n",
       "      <td>M</td>\n",
       "      <td>25</td>\n",
       "      <td>16</td>\n",
       "      <td>01890</td>\n",
       "    </tr>\n",
       "    <tr>\n",
       "      <th>2</th>\n",
       "      <td>3513</td>\n",
       "      <td>1257</td>\n",
       "      <td>5.0</td>\n",
       "      <td>3.604676</td>\n",
       "      <td>{'actual_k': 25, 'was_impossible': False}</td>\n",
       "      <td>3513</td>\n",
       "      <td>M</td>\n",
       "      <td>25</td>\n",
       "      <td>16</td>\n",
       "      <td>01890</td>\n",
       "    </tr>\n",
       "  </tbody>\n",
       "</table>\n",
       "</div>"
      ],
      "text/plain": [
       "    uid   iid  r_ui       est                                    details  \\\n",
       "0  3513  3105   4.0  3.611484  {'actual_k': 25, 'was_impossible': False}   \n",
       "1  3513  2302   4.0  3.855545  {'actual_k': 25, 'was_impossible': False}   \n",
       "2  3513  1257   5.0  3.604676  {'actual_k': 25, 'was_impossible': False}   \n",
       "\n",
       "   UserID Gender Age Occupation Zip-code  \n",
       "0    3513      M  25         16    01890  \n",
       "1    3513      M  25         16    01890  \n",
       "2    3513      M  25         16    01890  "
      ]
     },
     "execution_count": 106,
     "metadata": {},
     "output_type": "execute_result"
    }
   ],
   "source": [
    "pred_df.head(3)"
   ]
  },
  {
   "cell_type": "code",
   "execution_count": 107,
   "id": "2c6ac2ab",
   "metadata": {},
   "outputs": [],
   "source": [
    "def get_top_recommendations2(user_id):\n",
    "    res = pred_df[(pred_df['est'] > 3) &(pred_df['UserID']== user_id)]\n",
    "    res = res.sort_values(by=['est'],ascending =False)\n",
    "    m_ids = list(res['iid'])[:5]\n",
    "    return movies[movies['MovieID'].isin(m_ids)]['Title']"
   ]
  },
  {
   "cell_type": "code",
   "execution_count": 108,
   "id": "c7c941f1",
   "metadata": {},
   "outputs": [
    {
     "name": "stdout",
     "output_type": "stream",
     "text": [
      "Top movie recommendation for user_id = 1 is\n",
      "\n"
     ]
    },
    {
     "data": {
      "text/plain": [
       "590     Snow White and the Seven Dwarfs (1937)\n",
       "2329             Miracle on 34th Street (1947)\n",
       "2693                   Sixth Sense, The (1999)\n",
       "3339                    Erin Brockovich (2000)\n",
       "Name: Title, dtype: object"
      ]
     },
     "execution_count": 108,
     "metadata": {},
     "output_type": "execute_result"
    }
   ],
   "source": [
    "user_id = 1\n",
    "print('Top movie recommendation for user_id = {} is'.format(user_id) ) \n",
    "print()\n",
    "get_top_recommendations2(user_id)"
   ]
  },
  {
   "cell_type": "code",
   "execution_count": null,
   "id": "f3920530",
   "metadata": {},
   "outputs": [],
   "source": []
  },
  {
   "cell_type": "markdown",
   "id": "d9cd8ad6",
   "metadata": {},
   "source": [
    "## Matrix Factorization"
   ]
  },
  {
   "cell_type": "code",
   "execution_count": 69,
   "id": "09de2998",
   "metadata": {},
   "outputs": [],
   "source": [
    "from surprise import SVD\n",
    "from surprise.model_selection import cross_validate"
   ]
  },
  {
   "cell_type": "code",
   "execution_count": 76,
   "id": "464f93c2",
   "metadata": {},
   "outputs": [
    {
     "name": "stdout",
     "output_type": "stream",
     "text": [
      "Evaluating RMSE, MAE of algorithm SVD on 5 split(s).\n",
      "\n",
      "                  Fold 1  Fold 2  Fold 3  Fold 4  Fold 5  Mean    Std     \n",
      "RMSE (testset)    0.8740  0.8721  0.8735  0.8717  0.8753  0.8733  0.0013  \n",
      "MAE (testset)     0.6854  0.6854  0.6860  0.6849  0.6867  0.6857  0.0006  \n",
      "RMSE (trainset)   0.6704  0.6707  0.6700  0.6688  0.6694  0.6698  0.0007  \n",
      "MAE (trainset)    0.5303  0.5307  0.5303  0.5289  0.5298  0.5300  0.0006  \n",
      "Fit time          27.12   26.49   26.99   27.11   26.27   26.80   0.35    \n",
      "Test time         5.20    3.05    3.16    2.93    5.37    3.94    1.10    \n"
     ]
    },
    {
     "data": {
      "text/plain": [
       "{'test_rmse': array([0.8740391 , 0.8721064 , 0.87354156, 0.87174843, 0.87528244]),\n",
       " 'train_rmse': array([0.67035038, 0.67066578, 0.66997401, 0.66879877, 0.6694324 ]),\n",
       " 'test_mae': array([0.68536975, 0.68537777, 0.68599631, 0.6849286 , 0.68669657]),\n",
       " 'train_mae': array([0.53026343, 0.53069931, 0.53029189, 0.52894958, 0.52983418]),\n",
       " 'fit_time': (27.118249893188477,\n",
       "  26.491344451904297,\n",
       "  26.98891592025757,\n",
       "  27.105039834976196,\n",
       "  26.27310800552368),\n",
       " 'test_time': (5.201880931854248,\n",
       "  3.0547022819519043,\n",
       "  3.161517381668091,\n",
       "  2.9305169582366943,\n",
       "  5.371751546859741)}"
      ]
     },
     "execution_count": 76,
     "metadata": {},
     "output_type": "execute_result"
    }
   ],
   "source": [
    "svd = SVD() \n",
    "cross_validate(svd, data, measures=['rmse','mae'], cv = 5 , return_train_measures=True,verbose=True)"
   ]
  },
  {
   "cell_type": "code",
   "execution_count": 103,
   "id": "4ff3df31",
   "metadata": {},
   "outputs": [
    {
     "data": {
      "text/plain": [
       "<surprise.prediction_algorithms.matrix_factorization.SVD at 0x24940f24710>"
      ]
     },
     "execution_count": 103,
     "metadata": {},
     "output_type": "execute_result"
    }
   ],
   "source": [
    "trainset = data.build_full_trainset()\n",
    "svd.fit(trainset)"
   ]
  },
  {
   "cell_type": "code",
   "execution_count": 104,
   "id": "6d51d769",
   "metadata": {},
   "outputs": [
    {
     "data": {
      "text/plain": [
       "((6040, 100), (3706, 100))"
      ]
     },
     "execution_count": 104,
     "metadata": {},
     "output_type": "execute_result"
    }
   ],
   "source": [
    "svd.pu.shape , svd.qi.shape"
   ]
  },
  {
   "cell_type": "code",
   "execution_count": 105,
   "id": "755bb96c",
   "metadata": {},
   "outputs": [
    {
     "data": {
      "text/plain": [
       "array([[ 0.14025476,  0.0606829 , -0.16162088, ...,  0.00217234,\n",
       "        -0.20457006,  0.08624623],\n",
       "       [ 0.07646   ,  0.026589  ,  0.1060912 , ...,  0.20048608,\n",
       "         0.04465206,  0.02496292],\n",
       "       [ 0.14094364, -0.09221746,  0.09894712, ..., -0.12439506,\n",
       "        -0.06201178, -0.20368921],\n",
       "       ...,\n",
       "       [-0.08548903, -0.14938611,  0.00655201, ..., -0.18625769,\n",
       "        -0.03493881,  0.05930612],\n",
       "       [-0.10286616,  0.04045205,  0.00252325, ..., -0.06629147,\n",
       "         0.22140148, -0.03369383],\n",
       "       [-0.01457187, -0.14687743,  0.10122025, ...,  0.02055318,\n",
       "         0.07396195,  0.06992786]])"
      ]
     },
     "execution_count": 105,
     "metadata": {},
     "output_type": "execute_result"
    }
   ],
   "source": [
    "# Embeddings of Users:\n",
    "svd.pu"
   ]
  },
  {
   "cell_type": "code",
   "execution_count": 106,
   "id": "109c5c08",
   "metadata": {},
   "outputs": [
    {
     "data": {
      "text/plain": [
       "array([[ 0.18080737,  0.20402452, -0.17398416, ...,  0.30120005,\n",
       "        -0.04873666, -0.05619824],\n",
       "       [ 0.20563234,  0.07350702,  0.04250742, ...,  0.26176323,\n",
       "        -0.22022928, -0.01046673],\n",
       "       [ 0.165725  , -0.08218531,  0.07920492, ...,  0.20039072,\n",
       "         0.04332551,  0.15170556],\n",
       "       ...,\n",
       "       [ 0.03076271,  0.03105086,  0.01706483, ...,  0.0458508 ,\n",
       "         0.09971547, -0.01764991],\n",
       "       [ 0.0094158 , -0.22175168, -0.09814283, ..., -0.0314116 ,\n",
       "        -0.06677032, -0.07776497],\n",
       "       [-0.0142065 ,  0.15233755,  0.16240269, ..., -0.09609891,\n",
       "         0.1686861 , -0.0323188 ]])"
      ]
     },
     "execution_count": 106,
     "metadata": {},
     "output_type": "execute_result"
    }
   ],
   "source": [
    "# Embeddings of Movies:\n",
    "svd.qi"
   ]
  },
  {
   "cell_type": "code",
   "execution_count": 107,
   "id": "7c03e7ca",
   "metadata": {},
   "outputs": [],
   "source": [
    "def get_top_recommendations3(user_id):\n",
    "    items = movies['Title'].unique()\n",
    "    test = [[user_id, iid, 4] for iid in items]\n",
    "    ##Finding the user predictions(ratings) for all the movies\n",
    "    predictions = svd.test(test)\n",
    "    pred = pd.DataFrame(predictions)\n",
    "    return pred['iid'][:5]"
   ]
  },
  {
   "cell_type": "code",
   "execution_count": 108,
   "id": "c434da52",
   "metadata": {},
   "outputs": [
    {
     "data": {
      "text/plain": [
       "0                      Toy Story (1995)\n",
       "1                        Jumanji (1995)\n",
       "2               Grumpier Old Men (1995)\n",
       "3              Waiting to Exhale (1995)\n",
       "4    Father of the Bride Part II (1995)\n",
       "Name: iid, dtype: object"
      ]
     },
     "execution_count": 108,
     "metadata": {},
     "output_type": "execute_result"
    }
   ],
   "source": [
    "# Recommendation for user : 662\n",
    "get_top_recommendations3(662)"
   ]
  },
  {
   "cell_type": "code",
   "execution_count": 109,
   "id": "4330180a",
   "metadata": {},
   "outputs": [],
   "source": [
    "testset = trainset.build_anti_testset()\n",
    "predictions_svd = svd.test(testset) "
   ]
  },
  {
   "cell_type": "code",
   "execution_count": 110,
   "id": "ea8880af",
   "metadata": {},
   "outputs": [
    {
     "name": "stdout",
     "output_type": "stream",
     "text": [
      "SVD - RMSE: 0.7003625562585563\n",
      "SVD - MAE: 0.5422393673492503\n"
     ]
    }
   ],
   "source": [
    "print('SVD - RMSE:', accuracy.rmse(predictions_svd, verbose=False))\n",
    "print('SVD - MAE:', accuracy.mae(predictions_svd, verbose=False))"
   ]
  },
  {
   "cell_type": "markdown",
   "id": "1cc61a34",
   "metadata": {},
   "source": [
    "## Matrix Factorization with d=4 using cmfrec:"
   ]
  },
  {
   "cell_type": "code",
   "execution_count": 41,
   "id": "9d7b1070",
   "metadata": {},
   "outputs": [],
   "source": [
    "from cmfrec import CMF"
   ]
  },
  {
   "cell_type": "code",
   "execution_count": 42,
   "id": "d128568f",
   "metadata": {},
   "outputs": [
    {
     "data": {
      "text/html": [
       "<div>\n",
       "<style scoped>\n",
       "    .dataframe tbody tr th:only-of-type {\n",
       "        vertical-align: middle;\n",
       "    }\n",
       "\n",
       "    .dataframe tbody tr th {\n",
       "        vertical-align: top;\n",
       "    }\n",
       "\n",
       "    .dataframe thead th {\n",
       "        text-align: right;\n",
       "    }\n",
       "</style>\n",
       "<table border=\"1\" class=\"dataframe\">\n",
       "  <thead>\n",
       "    <tr style=\"text-align: right;\">\n",
       "      <th></th>\n",
       "      <th>UserID</th>\n",
       "      <th>MovieID</th>\n",
       "      <th>Rating</th>\n",
       "    </tr>\n",
       "  </thead>\n",
       "  <tbody>\n",
       "    <tr>\n",
       "      <th>0</th>\n",
       "      <td>1</td>\n",
       "      <td>1</td>\n",
       "      <td>5</td>\n",
       "    </tr>\n",
       "    <tr>\n",
       "      <th>1</th>\n",
       "      <td>1</td>\n",
       "      <td>48</td>\n",
       "      <td>5</td>\n",
       "    </tr>\n",
       "  </tbody>\n",
       "</table>\n",
       "</div>"
      ],
      "text/plain": [
       "   UserID  MovieID  Rating\n",
       "0       1        1       5\n",
       "1       1       48       5"
      ]
     },
     "execution_count": 42,
     "metadata": {},
     "output_type": "execute_result"
    }
   ],
   "source": [
    "rm_raw = df.copy()\n",
    "rm_raw.head(2)"
   ]
  },
  {
   "cell_type": "code",
   "execution_count": 43,
   "id": "fde7c422",
   "metadata": {},
   "outputs": [
    {
     "name": "stdout",
     "output_type": "stream",
     "text": [
      "<class 'pandas.core.frame.DataFrame'>\n",
      "Int64Index: 1000209 entries, 0 to 1000208\n",
      "Data columns (total 3 columns):\n",
      " #   Column   Non-Null Count    Dtype\n",
      "---  ------   --------------    -----\n",
      " 0   UserID   1000209 non-null  int32\n",
      " 1   MovieID  1000209 non-null  int32\n",
      " 2   Rating   1000209 non-null  int32\n",
      "dtypes: int32(3)\n",
      "memory usage: 19.1 MB\n"
     ]
    }
   ],
   "source": [
    "rm_raw.info()"
   ]
  },
  {
   "cell_type": "code",
   "execution_count": 44,
   "id": "43501739",
   "metadata": {},
   "outputs": [],
   "source": [
    "rm_raw.columns = ['UserId','ItemId','Rating'].copy()"
   ]
  },
  {
   "cell_type": "code",
   "execution_count": 45,
   "id": "b4277c88",
   "metadata": {},
   "outputs": [
    {
     "name": "stdout",
     "output_type": "stream",
     "text": [
      "Starting ALS optimization routine\n",
      "\n",
      "Updating B ... done\n",
      "Updating A ... done\n",
      "\tCompleted ALS iteration  1\n",
      "\n",
      "Updating B ... done\n",
      "Updating A ... done\n",
      "\tCompleted ALS iteration  2\n",
      "\n",
      "Updating B ... done\n",
      "Updating A ... done\n",
      "\tCompleted ALS iteration  3\n",
      "\n",
      "Updating B ... done\n",
      "Updating A ... done\n",
      "\tCompleted ALS iteration  4\n",
      "\n",
      "Updating B ... done\n",
      "Updating A ... done\n",
      "\tCompleted ALS iteration  5\n",
      "\n",
      "Updating B ... done\n",
      "Updating A ... done\n",
      "\tCompleted ALS iteration  6\n",
      "\n",
      "Updating B ... done\n",
      "Updating A ... done\n",
      "\tCompleted ALS iteration  7\n",
      "\n",
      "Updating B ... done\n",
      "Updating A ... done\n",
      "\tCompleted ALS iteration  8\n",
      "\n",
      "Updating B ... done\n",
      "Updating A ... done\n",
      "\tCompleted ALS iteration  9\n",
      "\n",
      "Updating B ... done\n",
      "Updating A ... done\n",
      "\tCompleted ALS iteration 10\n",
      "\n",
      "ALS procedure terminated successfully\n"
     ]
    },
    {
     "data": {
      "text/plain": [
       "Collective matrix factorization model\n",
       "(explicit-feedback variant)\n"
      ]
     },
     "execution_count": 45,
     "metadata": {},
     "output_type": "execute_result"
    }
   ],
   "source": [
    "model = CMF(k=4)\n",
    "model.fit(rm_raw)"
   ]
  },
  {
   "cell_type": "code",
   "execution_count": 46,
   "id": "34f1e3b9",
   "metadata": {},
   "outputs": [
    {
     "data": {
      "text/plain": [
       "array([[ 0.08404603, -0.34657595,  0.10241609,  0.19535628],\n",
       "       [-0.00651146, -0.5926335 ,  0.18200096, -0.50435007],\n",
       "       [ 0.08053058,  0.1901446 , -0.23939514,  0.32482678],\n",
       "       ...,\n",
       "       [ 0.00724335,  0.2813027 ,  0.23453984,  0.2679208 ],\n",
       "       [-0.18595792, -0.03760365, -0.14798997, -0.2837879 ],\n",
       "       [ 0.4272892 , -0.02914813,  0.09117861, -0.1552803 ]],\n",
       "      dtype=float32)"
      ]
     },
     "execution_count": 46,
     "metadata": {},
     "output_type": "execute_result"
    }
   ],
   "source": [
    "# User Embedding\n",
    "model.A_"
   ]
  },
  {
   "cell_type": "code",
   "execution_count": 47,
   "id": "f00d1627",
   "metadata": {},
   "outputs": [
    {
     "data": {
      "text/plain": [
       "(6040, 4)"
      ]
     },
     "execution_count": 47,
     "metadata": {},
     "output_type": "execute_result"
    }
   ],
   "source": [
    "model.A_.shape"
   ]
  },
  {
   "cell_type": "code",
   "execution_count": 48,
   "id": "4b2c020b",
   "metadata": {},
   "outputs": [
    {
     "data": {
      "text/plain": [
       "array([[ 1.4269935e+00,  2.5320774e-01,  2.6381704e-01, -1.2016895e-02],\n",
       "       [ 2.4189557e-01, -8.2531959e-01,  3.4426540e-01, -2.2754049e-01],\n",
       "       [ 1.0049114e+00, -4.1237411e-01,  1.1511104e-01,  4.4478700e-02],\n",
       "       ...,\n",
       "       [ 8.0024851e-03,  5.3440983e-04, -6.9885696e-03, -4.3837088e-03],\n",
       "       [-7.6927864e-03,  3.1846229e-03,  1.1772081e-03,  1.1570229e-02],\n",
       "       [ 6.3526444e-05, -6.2009194e-03, -1.0589255e-03, -1.9701037e-03]],\n",
       "      dtype=float32)"
      ]
     },
     "execution_count": 48,
     "metadata": {},
     "output_type": "execute_result"
    }
   ],
   "source": [
    "# Movie Embedding\n",
    "model.B_"
   ]
  },
  {
   "cell_type": "code",
   "execution_count": 49,
   "id": "96333b3b",
   "metadata": {},
   "outputs": [
    {
     "data": {
      "text/plain": [
       "(3706, 4)"
      ]
     },
     "execution_count": 49,
     "metadata": {},
     "output_type": "execute_result"
    }
   ],
   "source": [
    "model.B_.shape"
   ]
  },
  {
   "cell_type": "code",
   "execution_count": 50,
   "id": "96c1d85e",
   "metadata": {},
   "outputs": [
    {
     "data": {
      "text/plain": [
       "3.581564426422119"
      ]
     },
     "execution_count": 50,
     "metadata": {},
     "output_type": "execute_result"
    }
   ],
   "source": [
    "# GLobal mean\n",
    "model.glob_mean_"
   ]
  },
  {
   "cell_type": "code",
   "execution_count": 51,
   "id": "84dd0603",
   "metadata": {},
   "outputs": [],
   "source": [
    "top_items = model.topN(user=34,n=10)"
   ]
  },
  {
   "cell_type": "markdown",
   "id": "3f31b6d8",
   "metadata": {},
   "source": [
    "### Predict top 5 items for a given user(d=4):"
   ]
  },
  {
   "cell_type": "code",
   "execution_count": 79,
   "id": "4ae944bd",
   "metadata": {},
   "outputs": [
    {
     "data": {
      "text/plain": [
       "array([  50, 2959, 1136, 2858,  296])"
      ]
     },
     "execution_count": 79,
     "metadata": {},
     "output_type": "execute_result"
    }
   ],
   "source": [
    "top_items = model.topN(user=662,n=5)\n",
    "top_items"
   ]
  },
  {
   "cell_type": "code",
   "execution_count": 80,
   "id": "fbe369d3",
   "metadata": {},
   "outputs": [
    {
     "data": {
      "text/html": [
       "<div>\n",
       "<style scoped>\n",
       "    .dataframe tbody tr th:only-of-type {\n",
       "        vertical-align: middle;\n",
       "    }\n",
       "\n",
       "    .dataframe tbody tr th {\n",
       "        vertical-align: top;\n",
       "    }\n",
       "\n",
       "    .dataframe thead th {\n",
       "        text-align: right;\n",
       "    }\n",
       "</style>\n",
       "<table border=\"1\" class=\"dataframe\">\n",
       "  <thead>\n",
       "    <tr style=\"text-align: right;\">\n",
       "      <th></th>\n",
       "      <th>MovieID</th>\n",
       "      <th>Title</th>\n",
       "      <th>Genres</th>\n",
       "    </tr>\n",
       "  </thead>\n",
       "  <tbody>\n",
       "    <tr>\n",
       "      <th>49</th>\n",
       "      <td>50</td>\n",
       "      <td>Usual Suspects, The (1995)</td>\n",
       "      <td>Crime|Thriller</td>\n",
       "    </tr>\n",
       "    <tr>\n",
       "      <th>293</th>\n",
       "      <td>296</td>\n",
       "      <td>Pulp Fiction (1994)</td>\n",
       "      <td>Crime|Drama</td>\n",
       "    </tr>\n",
       "    <tr>\n",
       "      <th>1120</th>\n",
       "      <td>1136</td>\n",
       "      <td>Monty Python and the Holy Grail (1974)</td>\n",
       "      <td>Comedy</td>\n",
       "    </tr>\n",
       "    <tr>\n",
       "      <th>2789</th>\n",
       "      <td>2858</td>\n",
       "      <td>American Beauty (1999)</td>\n",
       "      <td>Comedy|Drama</td>\n",
       "    </tr>\n",
       "    <tr>\n",
       "      <th>2890</th>\n",
       "      <td>2959</td>\n",
       "      <td>Fight Club (1999)</td>\n",
       "      <td>Drama</td>\n",
       "    </tr>\n",
       "  </tbody>\n",
       "</table>\n",
       "</div>"
      ],
      "text/plain": [
       "     MovieID                                   Title          Genres\n",
       "49        50              Usual Suspects, The (1995)  Crime|Thriller\n",
       "293      296                     Pulp Fiction (1994)     Crime|Drama\n",
       "1120    1136  Monty Python and the Holy Grail (1974)          Comedy\n",
       "2789    2858                  American Beauty (1999)    Comedy|Drama\n",
       "2890    2959                       Fight Club (1999)           Drama"
      ]
     },
     "execution_count": 80,
     "metadata": {},
     "output_type": "execute_result"
    }
   ],
   "source": [
    "movies[movies['MovieID'].isin([str(i) for i in top_items])]"
   ]
  },
  {
   "cell_type": "code",
   "execution_count": 64,
   "id": "85e70c1c",
   "metadata": {},
   "outputs": [],
   "source": [
    "import numpy as np\n",
    "from sklearn.metrics import mean_squared_error,mean_absolute_percentage_error"
   ]
  },
  {
   "cell_type": "code",
   "execution_count": 77,
   "id": "c8f85b43",
   "metadata": {},
   "outputs": [
    {
     "name": "stdout",
     "output_type": "stream",
     "text": [
      "RMSE of CMF model with d=4: 0.826 [rho: 0.674]\n",
      "MSE of CMF model with d=4: 0.251\n"
     ]
    }
   ],
   "source": [
    "pred_ = model.predict(rm_raw.UserId, rm_raw.ItemId)\n",
    "print(\"RMSE of CMF model with d=4: %.3f [rho: %.3f]\" %\n",
    "      (np.sqrt(mean_squared_error(rm_raw.Rating,\n",
    "                                  pred_,\n",
    "                                  squared=True)),\n",
    "       np.corrcoef(rm_raw.Rating, pred_)[0,1]))\n",
    "print(\"MSE of CMF model with d=4: %.3f\" %\n",
    "      (mean_absolute_percentage_error(rm_raw.Rating,\n",
    "                                  pred_)))"
   ]
  },
  {
   "cell_type": "code",
   "execution_count": null,
   "id": "62e681c7",
   "metadata": {},
   "outputs": [],
   "source": []
  },
  {
   "cell_type": "markdown",
   "id": "32d1fb4c",
   "metadata": {},
   "source": [
    "# Questionnaire:"
   ]
  },
  {
   "cell_type": "markdown",
   "id": "3d3d3347",
   "metadata": {},
   "source": [
    "### 1. Users of which age group have watched and rated the most number of movies?\n",
    "### Ans: Users in the age group 25-34"
   ]
  },
  {
   "cell_type": "markdown",
   "id": "be40f5eb",
   "metadata": {},
   "source": [
    "### 2. Users belonging to which profession have watched and rated the most movies?\n",
    "### Ans: \"college/grad student\" profession"
   ]
  },
  {
   "cell_type": "markdown",
   "id": "4c8691b8",
   "metadata": {},
   "source": [
    "### 3. Most of the users in our dataset who’ve rated the movies are Male.\n",
    "### Ans: True"
   ]
  },
  {
   "cell_type": "markdown",
   "id": "7520701b",
   "metadata": {},
   "source": [
    "### 4. Most of the movies present in our dataset were released in which decade?\n",
    "### Ans: 90s"
   ]
  },
  {
   "cell_type": "markdown",
   "id": "93b94e37",
   "metadata": {},
   "source": [
    "### 5.The movie with maximum no. of ratings is\n",
    "### Ans: American Beauty (1999)"
   ]
  },
  {
   "cell_type": "markdown",
   "id": "ae9acc70",
   "metadata": {},
   "source": [
    "### 6. Name the top 3 movies similar to ‘Liar Liar’ on the item-based approach:"
   ]
  },
  {
   "cell_type": "code",
   "execution_count": 100,
   "id": "3b9de435",
   "metadata": {},
   "outputs": [
    {
     "data": {
      "text/html": [
       "<div>\n",
       "<style scoped>\n",
       "    .dataframe tbody tr th:only-of-type {\n",
       "        vertical-align: middle;\n",
       "    }\n",
       "\n",
       "    .dataframe tbody tr th {\n",
       "        vertical-align: top;\n",
       "    }\n",
       "\n",
       "    .dataframe thead th {\n",
       "        text-align: right;\n",
       "    }\n",
       "</style>\n",
       "<table border=\"1\" class=\"dataframe\">\n",
       "  <thead>\n",
       "    <tr style=\"text-align: right;\">\n",
       "      <th></th>\n",
       "      <th>MovieID</th>\n",
       "      <th>Title</th>\n",
       "      <th>Genres</th>\n",
       "    </tr>\n",
       "  </thead>\n",
       "  <tbody>\n",
       "    <tr>\n",
       "      <th>18</th>\n",
       "      <td>19</td>\n",
       "      <td>Ace Ventura: When Nature Calls (1995)</td>\n",
       "      <td>Comedy</td>\n",
       "    </tr>\n",
       "    <tr>\n",
       "      <th>228</th>\n",
       "      <td>231</td>\n",
       "      <td>Dumb &amp; Dumber (1994)</td>\n",
       "      <td>Comedy</td>\n",
       "    </tr>\n",
       "    <tr>\n",
       "      <th>340</th>\n",
       "      <td>344</td>\n",
       "      <td>Ace Ventura: Pet Detective (1994)</td>\n",
       "      <td>Comedy</td>\n",
       "    </tr>\n",
       "  </tbody>\n",
       "</table>\n",
       "</div>"
      ],
      "text/plain": [
       "    MovieID                                  Title  Genres\n",
       "18       19  Ace Ventura: When Nature Calls (1995)  Comedy\n",
       "228     231                   Dumb & Dumber (1994)  Comedy\n",
       "340     344      Ace Ventura: Pet Detective (1994)  Comedy"
      ]
     },
     "execution_count": 100,
     "metadata": {},
     "output_type": "execute_result"
    }
   ],
   "source": [
    "get_top_recommendations(1485)[:3]"
   ]
  },
  {
   "cell_type": "markdown",
   "id": "2138f544",
   "metadata": {},
   "source": [
    "### 7.On the basis of approach, Collaborative Filtering methods can be classified into:\n",
    "### Ans: Item-based and User-based."
   ]
  },
  {
   "cell_type": "markdown",
   "id": "5b892e63",
   "metadata": {},
   "source": [
    "### 8. Pearson Correlation ranges between  − 1 and 1 whereas, \n",
    "### Cosine Similarity belongs to the interval between 0 to 1."
   ]
  },
  {
   "cell_type": "markdown",
   "id": "f6d533a4",
   "metadata": {},
   "source": [
    "### 9. Mention the RMSE and MAPE that you got while evaluating the Matrix Factorization model."
   ]
  },
  {
   "cell_type": "code",
   "execution_count": 111,
   "id": "34164320",
   "metadata": {},
   "outputs": [
    {
     "name": "stdout",
     "output_type": "stream",
     "text": [
      "SVD - RMSE: 0.7003625562585563\n",
      "SVD - MAE: 0.5422393673492503\n"
     ]
    }
   ],
   "source": [
    "print('SVD - RMSE:', accuracy.rmse(predictions_svd, verbose=False))\n",
    "print('SVD - MAE:', accuracy.mae(predictions_svd, verbose=False))"
   ]
  },
  {
   "cell_type": "markdown",
   "id": "f9ada653",
   "metadata": {},
   "source": [
    "### 10. Give the sparse ‘row’ matrix representation for the following dense matrix -"
   ]
  },
  {
   "cell_type": "code",
   "execution_count": 104,
   "id": "ae89105d",
   "metadata": {},
   "outputs": [],
   "source": [
    "import scipy\n",
    "from numpy import array"
   ]
  },
  {
   "cell_type": "code",
   "execution_count": 105,
   "id": "e66bbf13",
   "metadata": {},
   "outputs": [],
   "source": [
    "dense = array([[1, 0],[3,7]])"
   ]
  },
  {
   "cell_type": "code",
   "execution_count": 106,
   "id": "dec01eb1",
   "metadata": {},
   "outputs": [],
   "source": [
    "csr = scipy.sparse.csr_matrix(dense)"
   ]
  },
  {
   "cell_type": "code",
   "execution_count": 107,
   "id": "558b0c38",
   "metadata": {},
   "outputs": [
    {
     "name": "stdout",
     "output_type": "stream",
     "text": [
      "  (0, 0)\t1\n",
      "  (1, 0)\t3\n",
      "  (1, 1)\t7\n"
     ]
    }
   ],
   "source": [
    "# Sparse 'row' matrix:\n",
    "print(csr)"
   ]
  },
  {
   "cell_type": "code",
   "execution_count": 109,
   "id": "bcb54e0f",
   "metadata": {},
   "outputs": [
    {
     "data": {
      "text/plain": [
       "matrix([[1, 0],\n",
       "        [3, 7]], dtype=int32)"
      ]
     },
     "execution_count": 109,
     "metadata": {},
     "output_type": "execute_result"
    }
   ],
   "source": [
    "csr.todense()"
   ]
  },
  {
   "cell_type": "code",
   "execution_count": null,
   "id": "b9bf849b",
   "metadata": {},
   "outputs": [],
   "source": []
  }
 ],
 "metadata": {
  "kernelspec": {
   "display_name": "Python 3 (ipykernel)",
   "language": "python",
   "name": "python3"
  },
  "language_info": {
   "codemirror_mode": {
    "name": "ipython",
    "version": 3
   },
   "file_extension": ".py",
   "mimetype": "text/x-python",
   "name": "python",
   "nbconvert_exporter": "python",
   "pygments_lexer": "ipython3",
   "version": "3.11.0"
  }
 },
 "nbformat": 4,
 "nbformat_minor": 5
}
